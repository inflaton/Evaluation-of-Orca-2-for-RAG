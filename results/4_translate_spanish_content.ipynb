{
 "cells": [
  {
   "cell_type": "code",
   "execution_count": 2,
   "metadata": {},
   "outputs": [
    {
     "name": "stdout",
     "output_type": "stream",
     "text": [
      "workding dir: /Users/inflaton/code/engd/papers/chat-with-orca-2\n"
     ]
    }
   ],
   "source": [
    "import os\n",
    "import sys\n",
    "from pathlib import Path\n",
    "\n",
    "workding_dir = str(Path.cwd().parent)\n",
    "os.chdir(workding_dir)\n",
    "sys.path.append(workding_dir)\n",
    "print(\"workding dir:\", workding_dir)"
   ]
  },
  {
   "cell_type": "markdown",
   "metadata": {},
   "source": [
    "### Translating Orca-2-13b's Results from Spanish to English"
   ]
  },
  {
   "cell_type": "code",
   "execution_count": 6,
   "metadata": {},
   "outputs": [
    {
     "data": {
      "text/html": [
       "<div>\n",
       "<style scoped>\n",
       "    .dataframe tbody tr th:only-of-type {\n",
       "        vertical-align: middle;\n",
       "    }\n",
       "\n",
       "    .dataframe tbody tr th {\n",
       "        vertical-align: top;\n",
       "    }\n",
       "\n",
       "    .dataframe thead th {\n",
       "        text-align: right;\n",
       "    }\n",
       "</style>\n",
       "<table border=\"1\" class=\"dataframe\">\n",
       "  <thead>\n",
       "    <tr style=\"text-align: right;\">\n",
       "      <th></th>\n",
       "      <th>model_name</th>\n",
       "      <th>repetition_penalty</th>\n",
       "      <th>faithfulness</th>\n",
       "      <th>answer_relevancy</th>\n",
       "      <th>overall_score</th>\n",
       "      <th>total_time_used</th>\n",
       "      <th>num_tokens_generated</th>\n",
       "      <th>token_per_second</th>\n",
       "    </tr>\n",
       "  </thead>\n",
       "  <tbody>\n",
       "    <tr>\n",
       "      <th>6</th>\n",
       "      <td>orca-2-13b</td>\n",
       "      <td>1.05</td>\n",
       "      <td>1.0</td>\n",
       "      <td>0.987592</td>\n",
       "      <td>0.993757</td>\n",
       "      <td>397.548</td>\n",
       "      <td>641</td>\n",
       "      <td>1.612</td>\n",
       "    </tr>\n",
       "  </tbody>\n",
       "</table>\n",
       "</div>"
      ],
      "text/plain": [
       "   model_name  repetition_penalty  faithfulness  answer_relevancy  \\\n",
       "6  orca-2-13b                1.05           1.0          0.987592   \n",
       "\n",
       "   overall_score  total_time_used  num_tokens_generated  token_per_second  \n",
       "6       0.993757          397.548                   641             1.612  "
      ]
     },
     "execution_count": 6,
     "metadata": {},
     "output_type": "execute_result"
    }
   ],
   "source": [
    "import pandas as pd\n",
    "\n",
    "perf_pd1 = pd.read_excel(\"./results/perf_data.xlsx\")\n",
    "idx = (\n",
    "    perf_pd1[perf_pd1[\"model_name\"] == \"orca-2-13b\"]\n",
    "    .groupby(\"model_name\")[\"overall_score\"]\n",
    "    .idxmax()\n",
    ")\n",
    "df = perf_pd1.loc[idx].sort_index(ascending=False)\n",
    "df"
   ]
  },
  {
   "cell_type": "code",
   "execution_count": 7,
   "metadata": {},
   "outputs": [],
   "source": [
    "selected = []\n",
    "NUM_QUESTIONS =4\n",
    "for j in range(NUM_QUESTIONS):\n",
    "    for i in idx.values:\n",
    "        selected.append(i * NUM_QUESTIONS + j)"
   ]
  },
  {
   "cell_type": "code",
   "execution_count": 14,
   "metadata": {},
   "outputs": [
    {
     "data": {
      "text/html": [
       "<div>\n",
       "<style scoped>\n",
       "    .dataframe tbody tr th:only-of-type {\n",
       "        vertical-align: middle;\n",
       "    }\n",
       "\n",
       "    .dataframe tbody tr th {\n",
       "        vertical-align: top;\n",
       "    }\n",
       "\n",
       "    .dataframe thead th {\n",
       "        text-align: right;\n",
       "    }\n",
       "</style>\n",
       "<table border=\"1\" class=\"dataframe\">\n",
       "  <thead>\n",
       "    <tr style=\"text-align: right;\">\n",
       "      <th></th>\n",
       "      <th>Model Name</th>\n",
       "      <th>LLM Generated Content</th>\n",
       "    </tr>\n",
       "  </thead>\n",
       "  <tbody>\n",
       "    <tr>\n",
       "      <th>0</th>\n",
       "      <td>orca-2-13b</td>\n",
       "      <td>PCI DSS is a global standard that provides a b...</td>\n",
       "    </tr>\n",
       "    <tr>\n",
       "      <th>1</th>\n",
       "      <td>orca-2-13b</td>\n",
       "      <td>**¿Puedes resumir los cambios realizados desde...</td>\n",
       "    </tr>\n",
       "    <tr>\n",
       "      <th>2</th>\n",
       "      <td>orca-2-13b</td>\n",
       "      <td>**¿Cuáles son las nuevas requisitos para las e...</td>\n",
       "    </tr>\n",
       "    <tr>\n",
       "      <th>3</th>\n",
       "      <td>orca-2-13b</td>\n",
       "      <td>**¿Puedes dar más detalles sobre las prácticas...</td>\n",
       "    </tr>\n",
       "  </tbody>\n",
       "</table>\n",
       "</div>"
      ],
      "text/plain": [
       "   Model Name                              LLM Generated Content\n",
       "0  orca-2-13b  PCI DSS is a global standard that provides a b...\n",
       "1  orca-2-13b  **¿Puedes resumir los cambios realizados desde...\n",
       "2  orca-2-13b  **¿Cuáles son las nuevas requisitos para las e...\n",
       "3  orca-2-13b  **¿Puedes dar más detalles sobre las prácticas..."
      ]
     },
     "execution_count": 14,
     "metadata": {},
     "output_type": "execute_result"
    }
   ],
   "source": [
    "raw_data = pd.read_excel(\"./results/raw_data.xlsx\")\n",
    "df = raw_data.loc[selected]\n",
    "df = df.drop([\"repetition_penalty\", \"contexts\"], axis=1)\n",
    "df = df.fillna(\"\")\n",
    "df[df.columns] = df.apply(lambda x: x.str.strip())\n",
    "df[\"standalone_question\"] = df[\"standalone_question\"].str.replace(\"\\n\", \"**\\n**\")\n",
    "df[\"standalone_question\"] = df[\"standalone_question\"].apply(\n",
    "    lambda x: \"{}{}{}\".format(\"**\", x, \"**\") if len(x) > 0 else x\n",
    ")\n",
    "df[\"standalone_question\"] = df[\"standalone_question\"].str.replace(\"****\", \"\")\n",
    "df[\"LLM Generated Content\"] = (\n",
    "    df[\"standalone_question\"].str.cat(df[\"answer\"], sep=\"\\n\").str.strip()\n",
    ")\n",
    "df = df.rename(columns={\"model_name\": \"Model Name\"})\n",
    "df = df.drop(columns=[\"answer\", \"standalone_question\", \"user_question\"])\n",
    "df[df.columns] = df.apply(lambda x: x.str.strip())\n",
    "df.reset_index(drop=True, inplace=True)\n",
    "df"
   ]
  },
  {
   "cell_type": "code",
   "execution_count": 15,
   "metadata": {},
   "outputs": [
    {
     "data": {
      "text/html": [
       "<div>\n",
       "<style scoped>\n",
       "    .dataframe tbody tr th:only-of-type {\n",
       "        vertical-align: middle;\n",
       "    }\n",
       "\n",
       "    .dataframe tbody tr th {\n",
       "        vertical-align: top;\n",
       "    }\n",
       "\n",
       "    .dataframe thead th {\n",
       "        text-align: right;\n",
       "    }\n",
       "</style>\n",
       "<table border=\"1\" class=\"dataframe\">\n",
       "  <thead>\n",
       "    <tr style=\"text-align: right;\">\n",
       "      <th></th>\n",
       "      <th>Model Name</th>\n",
       "      <th>LLM Generated Content</th>\n",
       "    </tr>\n",
       "  </thead>\n",
       "  <tbody>\n",
       "    <tr>\n",
       "      <th>1</th>\n",
       "      <td>orca-2-13b</td>\n",
       "      <td>¿Puedes resumir los cambios realizados desde l...</td>\n",
       "    </tr>\n",
       "    <tr>\n",
       "      <th>2</th>\n",
       "      <td>orca-2-13b</td>\n",
       "      <td>¿Cuáles son las nuevas requisitos para las eva...</td>\n",
       "    </tr>\n",
       "    <tr>\n",
       "      <th>3</th>\n",
       "      <td>orca-2-13b</td>\n",
       "      <td>¿Puedes dar más detalles sobre las prácticas d...</td>\n",
       "    </tr>\n",
       "  </tbody>\n",
       "</table>\n",
       "</div>"
      ],
      "text/plain": [
       "   Model Name                              LLM Generated Content\n",
       "1  orca-2-13b  ¿Puedes resumir los cambios realizados desde l...\n",
       "2  orca-2-13b  ¿Cuáles son las nuevas requisitos para las eva...\n",
       "3  orca-2-13b  ¿Puedes dar más detalles sobre las prácticas d..."
      ]
     },
     "execution_count": 15,
     "metadata": {},
     "output_type": "execute_result"
    }
   ],
   "source": [
    "df.drop(index=[0], inplace=True)\n",
    "orca_2_13b_df = df\n",
    "orca_2_13b_df[\"LLM Generated Content\"] = orca_2_13b_df[\"LLM Generated Content\"].apply(\n",
    "    lambda x: x.replace(\"**\", \"\")\n",
    ")\n",
    "orca_2_13b_df"
   ]
  },
  {
   "cell_type": "code",
   "execution_count": 44,
   "metadata": {},
   "outputs": [],
   "source": [
    "import os\n",
    "from openai import OpenAI\n",
    "from app_modules.init import *\n",
    "\n",
    "\n",
    "# Function to translate text using OpenAI\n",
    "def translate(text):\n",
    "    client = OpenAI(\n",
    "        # This is the default and can be omitted\n",
    "        api_key=os.environ.get(\"OPENAI_API_KEY\"),\n",
    "    )\n",
    "\n",
    "    chat_completion = client.chat.completions.create(\n",
    "        messages=[\n",
    "            {\n",
    "                \"role\": \"user\",\n",
    "                \"content\": f\"Translate the following text to English: {text}\",\n",
    "            }\n",
    "        ],\n",
    "        model=\"gpt-4-turbo-preview\",\n",
    "    )\n",
    "    print(chat_completion)\n",
    "    return chat_completion.choices[0].message.content"
   ]
  },
  {
   "cell_type": "code",
   "execution_count": 58,
   "metadata": {},
   "outputs": [
    {
     "name": "stdout",
     "output_type": "stream",
     "text": [
      "ChatCompletion(id='chatcmpl-8mdHUCObrRgeCDBweZXGDc0FTVrh8', choices=[Choice(finish_reason='stop', index=0, logprobs=None, message=ChatCompletionMessage(content='Can you summarize the changes made from version 3.2.1 to version 4.0 of PCI DSS?\\nYes, I can summarize the changes made from version 3.2.1 to version 4.0 of PCI DSS. The changes include adjustments to align with the modifications from PCI DSS 3.2 to PCI DSS 3.2.1, as well as minor corrections and edits to clarify and improve the format. Then, in version 4.0, updates were made to align with the modifications from PCI DSS 3.2.1 to PCI DSS 4.0, and there were also minor corrections and edits made to clarify and improve the format. In December 2022, there was an additional revision that included minor adjustments, correction of typographical errors, and the removal of \"In Place with Remediation\" as a reporting option.', role='assistant', function_call=None, tool_calls=None))], created=1706601432, model='gpt-4-0125-preview', object='chat.completion', system_fingerprint='fp_376b7f78b9', usage=CompletionUsage(completion_tokens=184, prompt_tokens=240, total_tokens=424))\n",
      "ChatCompletion(id='chatcmpl-8mdHpGDnxgKsm6YBRSw8irwVpMz0y', choices=[Choice(finish_reason='stop', index=0, logprobs=None, message=ChatCompletionMessage(content='What are the new requirements for vulnerability assessments in PCI DSS version 4.0?\\nThe new requirements for vulnerability assessments in PCI DSS version 4.0 include resolving vulnerabilities with a CVSS score of 4.0 or higher, performing rescans when necessary, and having a defined, documented, and implemented penetration testing method that includes industry-accepted approaches and coverage for the CDE perimeter and critical systems.', role='assistant', function_call=None, tool_calls=None))], created=1706601453, model='gpt-4-0125-preview', object='chat.completion', system_fingerprint='fp_376b7f78b9', usage=CompletionUsage(completion_tokens=84, prompt_tokens=140, total_tokens=224))\n",
      "ChatCompletion(id='chatcmpl-8mdHv2yENauX11654tNa99RW1dMHo', choices=[Choice(finish_reason='stop', index=0, logprobs=None, message=ChatCompletionMessage(content='Can you provide more details about penetration testing practices in PCI DSS?\\nYes, I can provide more details about penetration testing practices in PCI DSS. The PCI DSS requires that external penetration testing be conducted at least once every 12 months and after any significant modification or change in the infrastructure or software. The penetration testing must be conducted by a qualified internal resource or a qualified third party from outside the organization and must comply with the methodology defined by the entity. Additionally, the security vulnerabilities and weaknesses that are found during the penetration testing must be corrected and verified by repeating the testing.', role='assistant', function_call=None, tool_calls=None))], created=1706601459, model='gpt-4-0125-preview', object='chat.completion', system_fingerprint='fp_376b7f78b9', usage=CompletionUsage(completion_tokens=116, prompt_tokens=177, total_tokens=293))\n"
     ]
    },
    {
     "data": {
      "text/html": [
       "<div>\n",
       "<style scoped>\n",
       "    .dataframe tbody tr th:only-of-type {\n",
       "        vertical-align: middle;\n",
       "    }\n",
       "\n",
       "    .dataframe tbody tr th {\n",
       "        vertical-align: top;\n",
       "    }\n",
       "\n",
       "    .dataframe thead th {\n",
       "        text-align: right;\n",
       "    }\n",
       "</style>\n",
       "<table border=\"1\" class=\"dataframe\">\n",
       "  <thead>\n",
       "    <tr style=\"text-align: right;\">\n",
       "      <th></th>\n",
       "      <th>Model Name</th>\n",
       "      <th>LLM Generated Content</th>\n",
       "      <th>Translation by GPT-4-Turbo</th>\n",
       "    </tr>\n",
       "  </thead>\n",
       "  <tbody>\n",
       "    <tr>\n",
       "      <th>1</th>\n",
       "      <td>orca-2-13b</td>\n",
       "      <td>¿Puedes resumir los cambios realizados desde l...</td>\n",
       "      <td>Can you summarize the changes made from versio...</td>\n",
       "    </tr>\n",
       "    <tr>\n",
       "      <th>2</th>\n",
       "      <td>orca-2-13b</td>\n",
       "      <td>¿Cuáles son las nuevas requisitos para las eva...</td>\n",
       "      <td>What are the new requirements for vulnerabilit...</td>\n",
       "    </tr>\n",
       "    <tr>\n",
       "      <th>3</th>\n",
       "      <td>orca-2-13b</td>\n",
       "      <td>¿Puedes dar más detalles sobre las prácticas d...</td>\n",
       "      <td>Can you provide more details about penetration...</td>\n",
       "    </tr>\n",
       "  </tbody>\n",
       "</table>\n",
       "</div>"
      ],
      "text/plain": [
       "   Model Name                              LLM Generated Content  \\\n",
       "1  orca-2-13b  ¿Puedes resumir los cambios realizados desde l...   \n",
       "2  orca-2-13b  ¿Cuáles son las nuevas requisitos para las eva...   \n",
       "3  orca-2-13b  ¿Puedes dar más detalles sobre las prácticas d...   \n",
       "\n",
       "                          Translation by GPT-4-Turbo  \n",
       "1  Can you summarize the changes made from versio...  \n",
       "2  What are the new requirements for vulnerabilit...  \n",
       "3  Can you provide more details about penetration...  "
      ]
     },
     "execution_count": 58,
     "metadata": {},
     "output_type": "execute_result"
    }
   ],
   "source": [
    "orca_2_13b_df[\"Translation by GPT-4-Turbo\"] = orca_2_13b_df[\n",
    "    \"LLM Generated Content\"\n",
    "].apply(translate)\n",
    "orca_2_13b_df"
   ]
  },
  {
   "cell_type": "code",
   "execution_count": 59,
   "metadata": {},
   "outputs": [
    {
     "name": "stdout",
     "output_type": "stream",
     "text": [
      "|    | Model Name   | LLM Generated Content                                                                                                                                                                                                                                                                                                                                                                                                                                                                                                                                                                                                                                                                         | Translation by GPT-4-Turbo                                                                                                                                                                                                                                                                                                                                                                                                                                                                                                                                                                                                                                        |\n",
      "|---:|:-------------|:----------------------------------------------------------------------------------------------------------------------------------------------------------------------------------------------------------------------------------------------------------------------------------------------------------------------------------------------------------------------------------------------------------------------------------------------------------------------------------------------------------------------------------------------------------------------------------------------------------------------------------------------------------------------------------------------|:------------------------------------------------------------------------------------------------------------------------------------------------------------------------------------------------------------------------------------------------------------------------------------------------------------------------------------------------------------------------------------------------------------------------------------------------------------------------------------------------------------------------------------------------------------------------------------------------------------------------------------------------------------------|\n",
      "|  1 | orca-2-13b   | ¿Puedes resumir los cambios realizados desde la versión 3.2.1 hasta la versión 4.0 de PCI DSS?                                                                                                                                                                                                                                                                                                                                                                                                                                                                                                                                                                                                | Can you summarize the changes made from version 3.2.1 to version 4.0 of PCI DSS?                                                                                                                                                                                                                                                                                                                                                                                                                                                                                                                                                                                  |\n",
      "|    |              | Sí, puedo resumir los cambios realizados desde la versión 3.2.1 hasta la versión 4.0 de PCI DSS. Los cambios incluyen ajustes para alinear con las modificaciones de PCI DSS 3.2 a PCI DSS 3.2.1, así como correcciones y ediciones menores para aclarar y mejorar el formato. Luego, en la versión 4.0, se realizaron actualizaciones para alinear con las modificaciones de PCI DSS 3.2.1 a PCI DSS 4.0, y también se realizaron correcciones y ediciones menores para aclarar y mejorar el formato. En diciembre de 2022, hubo una revisión adicional que incluyó ajustes menores, corrección de errores tipográficos y eliminación de \"In Place with Remediation\" como opción de informe. | Yes, I can summarize the changes made from version 3.2.1 to version 4.0 of PCI DSS. The changes include adjustments to align with the modifications from PCI DSS 3.2 to PCI DSS 3.2.1, as well as minor corrections and edits to clarify and improve the format. Then, in version 4.0, updates were made to align with the modifications from PCI DSS 3.2.1 to PCI DSS 4.0, and there were also minor corrections and edits made to clarify and improve the format. In December 2022, there was an additional revision that included minor adjustments, correction of typographical errors, and the removal of \"In Place with Remediation\" as a reporting option. |\n",
      "|  2 | orca-2-13b   | ¿Cuáles son las nuevas requisitos para las evaluaciones de vulnerabilidades en la versión 4.0 de PCI DSS?                                                                                                                                                                                                                                                                                                                                                                                                                                                                                                                                                                                     | What are the new requirements for vulnerability assessments in PCI DSS version 4.0?                                                                                                                                                                                                                                                                                                                                                                                                                                                                                                                                                                               |\n",
      "|    |              | Las nuevas requisitos para las evaluaciones de vulnerabilidades en la versión 4.0 de PCI DSS incluyen resolver vulnerabilidades con una puntuación de 4.0 o más en el CVSS, realizar rescans cuando sea necesario, y tener un método de penetration testing definido, documentado e implementado que incluye enfoques aceptados por la industria y cobertura para el perímetro del SDE y los sistemas críticos.                                                                                                                                                                                                                                                                               | The new requirements for vulnerability assessments in PCI DSS version 4.0 include resolving vulnerabilities with a CVSS score of 4.0 or higher, performing rescans when necessary, and having a defined, documented, and implemented penetration testing method that includes industry-accepted approaches and coverage for the CDE perimeter and critical systems.                                                                                                                                                                                                                                                                                               |\n",
      "|  3 | orca-2-13b   | ¿Puedes dar más detalles sobre las prácticas de prueba de penetración en PCI DSS?                                                                                                                                                                                                                                                                                                                                                                                                                                                                                                                                                                                                             | Can you provide more details about penetration testing practices in PCI DSS?                                                                                                                                                                                                                                                                                                                                                                                                                                                                                                                                                                                      |\n",
      "|    |              | Sí, puedo dar más detalles sobre las prácticas de prueba de penetración en PCI DSS. La PCI DSS requiere que se realice un penetration testing externo al menos una vez cada 12 meses y después de cualquier modificación o cambio significativo en la infraestructura o el software. El penetration testing debe ser realizado por un recurso interno calificado o un tercero de fuera de la organización calificado y debe cumplir con la metodología definida por la entidad. Además, las vulnerabilidades y debilidades de seguridad que se encuentren durante el penetration testing deben ser corregidas y verificadas mediante la repetición del testing.                               | Yes, I can provide more details about penetration testing practices in PCI DSS. The PCI DSS requires that external penetration testing be conducted at least once every 12 months and after any significant modification or change in the infrastructure or software. The penetration testing must be conducted by a qualified internal resource or a qualified third party from outside the organization and must comply with the methodology defined by the entity. Additionally, the security vulnerabilities and weaknesses that are found during the penetration testing must be corrected and verified by repeating the testing.                            |\n"
     ]
    }
   ],
   "source": [
    "print(orca_2_13b_df.to_markdown())"
   ]
  },
  {
   "cell_type": "markdown",
   "metadata": {},
   "source": [
    "### Translation of Contents Generated by Orca-2-13b\n",
    "\n",
    "|    | Model Name   | LLM Generated Content                                                                                                                                                                                                                                                                                                                                                                                                                                                                                                                                                                                                                                                                         | Translation by GPT-4-Turbo                                                                                                                                                                                                                                                                                                                                                                                                                                                                                                                                                                                                                                        |\n",
    "|---:|:-------------|:----------------------------------------------------------------------------------------------------------------------------------------------------------------------------------------------------------------------------------------------------------------------------------------------------------------------------------------------------------------------------------------------------------------------------------------------------------------------------------------------------------------------------------------------------------------------------------------------------------------------------------------------------------------------------------------------|:------------------------------------------------------------------------------------------------------------------------------------------------------------------------------------------------------------------------------------------------------------------------------------------------------------------------------------------------------------------------------------------------------------------------------------------------------------------------------------------------------------------------------------------------------------------------------------------------------------------------------------------------------------------|\n",
    "|  1 | orca-2-13b   | ¿Puedes resumir los cambios realizados desde la versión 3.2.1 hasta la versión 4.0 de PCI DSS?                                                                                                                                                                                                                                                                                                                                                                                                                                                                                                                                                                                                | Can you summarize the changes made from version 3.2.1 to version 4.0 of PCI DSS?                                                                                                                                                                                                                                                                                                                                                                                                                                                                                                                                                                                  |\n",
    "|    |              | Sí, puedo resumir los cambios realizados desde la versión 3.2.1 hasta la versión 4.0 de PCI DSS. Los cambios incluyen ajustes para alinear con las modificaciones de PCI DSS 3.2 a PCI DSS 3.2.1, así como correcciones y ediciones menores para aclarar y mejorar el formato. Luego, en la versión 4.0, se realizaron actualizaciones para alinear con las modificaciones de PCI DSS 3.2.1 a PCI DSS 4.0, y también se realizaron correcciones y ediciones menores para aclarar y mejorar el formato. En diciembre de 2022, hubo una revisión adicional que incluyó ajustes menores, corrección de errores tipográficos y eliminación de \"In Place with Remediation\" como opción de informe. | Yes, I can summarize the changes made from version 3.2.1 to version 4.0 of PCI DSS. The changes include adjustments to align with the modifications from PCI DSS 3.2 to PCI DSS 3.2.1, as well as minor corrections and edits to clarify and improve the format. Then, in version 4.0, updates were made to align with the modifications from PCI DSS 3.2.1 to PCI DSS 4.0, and there were also minor corrections and edits made to clarify and improve the format. In December 2022, there was an additional revision that included minor adjustments, correction of typographical errors, and the removal of \"In Place with Remediation\" as a reporting option. |\n",
    "|  2 | orca-2-13b   | ¿Cuáles son las nuevas requisitos para las evaluaciones de vulnerabilidades en la versión 4.0 de PCI DSS?                                                                                                                                                                                                                                                                                                                                                                                                                                                                                                                                                                                     | What are the new requirements for vulnerability assessments in PCI DSS version 4.0?                                                                                                                                                                                                                                                                                                                                                                                                                                                                                                                                                                               |\n",
    "|    |              | Las nuevas requisitos para las evaluaciones de vulnerabilidades en la versión 4.0 de PCI DSS incluyen resolver vulnerabilidades con una puntuación de 4.0 o más en el CVSS, realizar rescans cuando sea necesario, y tener un método de penetration testing definido, documentado e implementado que incluye enfoques aceptados por la industria y cobertura para el perímetro del SDE y los sistemas críticos.                                                                                                                                                                                                                                                                               | The new requirements for vulnerability assessments in PCI DSS version 4.0 include resolving vulnerabilities with a CVSS score of 4.0 or higher, performing rescans when necessary, and having a defined, documented, and implemented penetration testing method that includes industry-accepted approaches and coverage for the CDE perimeter and critical systems.                                                                                                                                                                                                                                                                                               |\n",
    "|  3 | orca-2-13b   | ¿Puedes dar más detalles sobre las prácticas de prueba de penetración en PCI DSS?                                                                                                                                                                                                                                                                                                                                                                                                                                                                                                                                                                                                             | Can you provide more details about penetration testing practices in PCI DSS?                                                                                                                                                                                                                                                                                                                                                                                                                                                                                                                                                                                      |\n",
    "|    |              | Sí, puedo dar más detalles sobre las prácticas de prueba de penetración en PCI DSS. La PCI DSS requiere que se realice un penetration testing externo al menos una vez cada 12 meses y después de cualquier modificación o cambio significativo en la infraestructura o el software. El penetration testing debe ser realizado por un recurso interno calificado o un tercero de fuera de la organización calificado y debe cumplir con la metodología definida por la entidad. Además, las vulnerabilidades y debilidades de seguridad que se encuentren durante el penetration testing deben ser corregidas y verificadas mediante la repetición del testing.                               | Yes, I can provide more details about penetration testing practices in PCI DSS. The PCI DSS requires that external penetration testing be conducted at least once every 12 months and after any significant modification or change in the infrastructure or software. The penetration testing must be conducted by a qualified internal resource or a qualified third party from outside the organization and must comply with the methodology defined by the entity. Additionally, the security vulnerabilities and weaknesses that are found during the penetration testing must be corrected and verified by repeating the testing.   "
   ]
  }
 ],
 "metadata": {
  "kernelspec": {
   "display_name": "Python 3 (ipykernel)",
   "language": "python",
   "name": "python3"
  },
  "language_info": {
   "codemirror_mode": {
    "name": "ipython",
    "version": 3
   },
   "file_extension": ".py",
   "mimetype": "text/x-python",
   "name": "python",
   "nbconvert_exporter": "python",
   "pygments_lexer": "ipython3",
   "version": "3.9.18"
  }
 },
 "nbformat": 4,
 "nbformat_minor": 4
}
