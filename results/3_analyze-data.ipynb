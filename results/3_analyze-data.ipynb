{
 "cells": [
  {
   "cell_type": "code",
   "execution_count": 1,
   "metadata": {},
   "outputs": [
    {
     "name": "stdout",
     "output_type": "stream",
     "text": [
      "workding dir: /Users/inflaton/code/engd/papers/chat-with-orca-2\n"
     ]
    }
   ],
   "source": [
    "import os\n",
    "import sys\n",
    "from pathlib import Path\n",
    "\n",
    "workding_dir = str(Path.cwd().parent)\n",
    "os.chdir(workding_dir)\n",
    "sys.path.append(workding_dir)\n",
    "print(\"workding dir:\", workding_dir)"
   ]
  },
  {
   "cell_type": "code",
   "execution_count": 2,
   "metadata": {},
   "outputs": [],
   "source": [
    "import pandas as pd\n",
    "\n",
    "perf_pd1 = pd.read_excel(\"./results/perf_data.xlsx\")"
   ]
  },
  {
   "cell_type": "markdown",
   "metadata": {},
   "source": [
    "## Results from Nvidia GeForce RTX 4090"
   ]
  },
  {
   "cell_type": "code",
   "execution_count": 3,
   "metadata": {},
   "outputs": [
    {
     "data": {
      "text/html": [
       "<div>\n",
       "<style scoped>\n",
       "    .dataframe tbody tr th:only-of-type {\n",
       "        vertical-align: middle;\n",
       "    }\n",
       "\n",
       "    .dataframe tbody tr th {\n",
       "        vertical-align: top;\n",
       "    }\n",
       "\n",
       "    .dataframe thead th {\n",
       "        text-align: right;\n",
       "    }\n",
       "</style>\n",
       "<table border=\"1\" class=\"dataframe\">\n",
       "  <thead>\n",
       "    <tr style=\"text-align: right;\">\n",
       "      <th></th>\n",
       "      <th>model_name</th>\n",
       "      <th>repetition_penalty</th>\n",
       "      <th>faithfulness</th>\n",
       "      <th>answer_relevancy</th>\n",
       "      <th>overall_score</th>\n",
       "      <th>total_time_used</th>\n",
       "      <th>num_tokens_generated</th>\n",
       "      <th>token_per_second</th>\n",
       "    </tr>\n",
       "  </thead>\n",
       "  <tbody>\n",
       "    <tr>\n",
       "      <th>0</th>\n",
       "      <td>orca-2-7b</td>\n",
       "      <td>1.05</td>\n",
       "      <td>0.830357</td>\n",
       "      <td>0.978324</td>\n",
       "      <td>0.898288</td>\n",
       "      <td>46.121</td>\n",
       "      <td>536</td>\n",
       "      <td>11.622</td>\n",
       "    </tr>\n",
       "    <tr>\n",
       "      <th>1</th>\n",
       "      <td>orca-2-7b</td>\n",
       "      <td>1.10</td>\n",
       "      <td>0.750000</td>\n",
       "      <td>0.974817</td>\n",
       "      <td>0.847757</td>\n",
       "      <td>20.195</td>\n",
       "      <td>652</td>\n",
       "      <td>32.286</td>\n",
       "    </tr>\n",
       "    <tr>\n",
       "      <th>2</th>\n",
       "      <td>orca-2-7b</td>\n",
       "      <td>1.15</td>\n",
       "      <td>1.000000</td>\n",
       "      <td>0.973278</td>\n",
       "      <td>0.986458</td>\n",
       "      <td>13.672</td>\n",
       "      <td>454</td>\n",
       "      <td>33.208</td>\n",
       "    </tr>\n",
       "    <tr>\n",
       "      <th>3</th>\n",
       "      <td>llama-2-7b</td>\n",
       "      <td>1.05</td>\n",
       "      <td>0.875000</td>\n",
       "      <td>0.715099</td>\n",
       "      <td>0.787010</td>\n",
       "      <td>19.468</td>\n",
       "      <td>679</td>\n",
       "      <td>34.878</td>\n",
       "    </tr>\n",
       "    <tr>\n",
       "      <th>4</th>\n",
       "      <td>llama-2-7b</td>\n",
       "      <td>1.10</td>\n",
       "      <td>0.879630</td>\n",
       "      <td>0.731304</td>\n",
       "      <td>0.798638</td>\n",
       "      <td>21.670</td>\n",
       "      <td>759</td>\n",
       "      <td>35.026</td>\n",
       "    </tr>\n",
       "    <tr>\n",
       "      <th>5</th>\n",
       "      <td>llama-2-7b</td>\n",
       "      <td>1.15</td>\n",
       "      <td>1.000000</td>\n",
       "      <td>0.711172</td>\n",
       "      <td>0.831210</td>\n",
       "      <td>22.604</td>\n",
       "      <td>803</td>\n",
       "      <td>35.524</td>\n",
       "    </tr>\n",
       "    <tr>\n",
       "      <th>6</th>\n",
       "      <td>orca-2-13b</td>\n",
       "      <td>1.05</td>\n",
       "      <td>1.000000</td>\n",
       "      <td>0.987592</td>\n",
       "      <td>0.993757</td>\n",
       "      <td>397.548</td>\n",
       "      <td>641</td>\n",
       "      <td>1.612</td>\n",
       "    </tr>\n",
       "    <tr>\n",
       "      <th>7</th>\n",
       "      <td>orca-2-13b</td>\n",
       "      <td>1.10</td>\n",
       "      <td>1.000000</td>\n",
       "      <td>0.960806</td>\n",
       "      <td>0.980011</td>\n",
       "      <td>272.891</td>\n",
       "      <td>478</td>\n",
       "      <td>1.752</td>\n",
       "    </tr>\n",
       "    <tr>\n",
       "      <th>8</th>\n",
       "      <td>orca-2-13b</td>\n",
       "      <td>1.15</td>\n",
       "      <td>0.950000</td>\n",
       "      <td>0.961115</td>\n",
       "      <td>0.955525</td>\n",
       "      <td>291.610</td>\n",
       "      <td>514</td>\n",
       "      <td>1.763</td>\n",
       "    </tr>\n",
       "    <tr>\n",
       "      <th>9</th>\n",
       "      <td>llama-2-13b</td>\n",
       "      <td>1.05</td>\n",
       "      <td>0.900000</td>\n",
       "      <td>0.962428</td>\n",
       "      <td>0.930168</td>\n",
       "      <td>369.084</td>\n",
       "      <td>677</td>\n",
       "      <td>1.834</td>\n",
       "    </tr>\n",
       "    <tr>\n",
       "      <th>10</th>\n",
       "      <td>llama-2-13b</td>\n",
       "      <td>1.10</td>\n",
       "      <td>0.875000</td>\n",
       "      <td>0.967267</td>\n",
       "      <td>0.918823</td>\n",
       "      <td>505.816</td>\n",
       "      <td>881</td>\n",
       "      <td>1.742</td>\n",
       "    </tr>\n",
       "    <tr>\n",
       "      <th>11</th>\n",
       "      <td>llama-2-13b</td>\n",
       "      <td>1.15</td>\n",
       "      <td>0.944444</td>\n",
       "      <td>0.964647</td>\n",
       "      <td>0.954439</td>\n",
       "      <td>435.429</td>\n",
       "      <td>777</td>\n",
       "      <td>1.784</td>\n",
       "    </tr>\n",
       "    <tr>\n",
       "      <th>12</th>\n",
       "      <td>gpt-3.5-turbo</td>\n",
       "      <td>NaN</td>\n",
       "      <td>0.958333</td>\n",
       "      <td>0.483574</td>\n",
       "      <td>0.642795</td>\n",
       "      <td>13.232</td>\n",
       "      <td>425</td>\n",
       "      <td>32.119</td>\n",
       "    </tr>\n",
       "    <tr>\n",
       "      <th>14</th>\n",
       "      <td>gpt-4</td>\n",
       "      <td>NaN</td>\n",
       "      <td>1.000000</td>\n",
       "      <td>0.701869</td>\n",
       "      <td>0.824822</td>\n",
       "      <td>42.257</td>\n",
       "      <td>670</td>\n",
       "      <td>15.855</td>\n",
       "    </tr>\n",
       "  </tbody>\n",
       "</table>\n",
       "</div>"
      ],
      "text/plain": [
       "       model_name  repetition_penalty  faithfulness  answer_relevancy  \\\n",
       "0       orca-2-7b                1.05      0.830357          0.978324   \n",
       "1       orca-2-7b                1.10      0.750000          0.974817   \n",
       "2       orca-2-7b                1.15      1.000000          0.973278   \n",
       "3      llama-2-7b                1.05      0.875000          0.715099   \n",
       "4      llama-2-7b                1.10      0.879630          0.731304   \n",
       "5      llama-2-7b                1.15      1.000000          0.711172   \n",
       "6      orca-2-13b                1.05      1.000000          0.987592   \n",
       "7      orca-2-13b                1.10      1.000000          0.960806   \n",
       "8      orca-2-13b                1.15      0.950000          0.961115   \n",
       "9     llama-2-13b                1.05      0.900000          0.962428   \n",
       "10    llama-2-13b                1.10      0.875000          0.967267   \n",
       "11    llama-2-13b                1.15      0.944444          0.964647   \n",
       "12  gpt-3.5-turbo                 NaN      0.958333          0.483574   \n",
       "14          gpt-4                 NaN      1.000000          0.701869   \n",
       "\n",
       "    overall_score  total_time_used  num_tokens_generated  token_per_second  \n",
       "0        0.898288           46.121                   536            11.622  \n",
       "1        0.847757           20.195                   652            32.286  \n",
       "2        0.986458           13.672                   454            33.208  \n",
       "3        0.787010           19.468                   679            34.878  \n",
       "4        0.798638           21.670                   759            35.026  \n",
       "5        0.831210           22.604                   803            35.524  \n",
       "6        0.993757          397.548                   641             1.612  \n",
       "7        0.980011          272.891                   478             1.752  \n",
       "8        0.955525          291.610                   514             1.763  \n",
       "9        0.930168          369.084                   677             1.834  \n",
       "10       0.918823          505.816                   881             1.742  \n",
       "11       0.954439          435.429                   777             1.784  \n",
       "12       0.642795           13.232                   425            32.119  \n",
       "14       0.824822           42.257                   670            15.855  "
      ]
     },
     "execution_count": 3,
     "metadata": {},
     "output_type": "execute_result"
    }
   ],
   "source": [
    "perf_pd1 = perf_pd1.drop(13)  # gpt-3.5-turbo-instruct\n",
    "perf_pd1"
   ]
  },
  {
   "cell_type": "code",
   "execution_count": 4,
   "metadata": {},
   "outputs": [
    {
     "data": {
      "text/html": [
       "<div>\n",
       "<style scoped>\n",
       "    .dataframe tbody tr th:only-of-type {\n",
       "        vertical-align: middle;\n",
       "    }\n",
       "\n",
       "    .dataframe tbody tr th {\n",
       "        vertical-align: top;\n",
       "    }\n",
       "\n",
       "    .dataframe thead th {\n",
       "        text-align: right;\n",
       "    }\n",
       "</style>\n",
       "<table border=\"1\" class=\"dataframe\">\n",
       "  <thead>\n",
       "    <tr style=\"text-align: right;\">\n",
       "      <th></th>\n",
       "      <th>model_name</th>\n",
       "      <th>repetition_penalty</th>\n",
       "      <th>faithfulness</th>\n",
       "      <th>answer_relevancy</th>\n",
       "      <th>overall_score</th>\n",
       "      <th>total_time_used</th>\n",
       "      <th>num_tokens_generated</th>\n",
       "      <th>token_per_second</th>\n",
       "    </tr>\n",
       "  </thead>\n",
       "  <tbody>\n",
       "    <tr>\n",
       "      <th>14</th>\n",
       "      <td>gpt-4</td>\n",
       "      <td>NaN</td>\n",
       "      <td>1.000000</td>\n",
       "      <td>0.701869</td>\n",
       "      <td>0.824822</td>\n",
       "      <td>42.257</td>\n",
       "      <td>670</td>\n",
       "      <td>15.855</td>\n",
       "    </tr>\n",
       "    <tr>\n",
       "      <th>12</th>\n",
       "      <td>gpt-3.5-turbo</td>\n",
       "      <td>NaN</td>\n",
       "      <td>0.958333</td>\n",
       "      <td>0.483574</td>\n",
       "      <td>0.642795</td>\n",
       "      <td>13.232</td>\n",
       "      <td>425</td>\n",
       "      <td>32.119</td>\n",
       "    </tr>\n",
       "    <tr>\n",
       "      <th>11</th>\n",
       "      <td>llama-2-13b</td>\n",
       "      <td>1.15</td>\n",
       "      <td>0.944444</td>\n",
       "      <td>0.964647</td>\n",
       "      <td>0.954439</td>\n",
       "      <td>435.429</td>\n",
       "      <td>777</td>\n",
       "      <td>1.784</td>\n",
       "    </tr>\n",
       "    <tr>\n",
       "      <th>6</th>\n",
       "      <td>orca-2-13b</td>\n",
       "      <td>1.05</td>\n",
       "      <td>1.000000</td>\n",
       "      <td>0.987592</td>\n",
       "      <td>0.993757</td>\n",
       "      <td>397.548</td>\n",
       "      <td>641</td>\n",
       "      <td>1.612</td>\n",
       "    </tr>\n",
       "    <tr>\n",
       "      <th>5</th>\n",
       "      <td>llama-2-7b</td>\n",
       "      <td>1.15</td>\n",
       "      <td>1.000000</td>\n",
       "      <td>0.711172</td>\n",
       "      <td>0.831210</td>\n",
       "      <td>22.604</td>\n",
       "      <td>803</td>\n",
       "      <td>35.524</td>\n",
       "    </tr>\n",
       "    <tr>\n",
       "      <th>2</th>\n",
       "      <td>orca-2-7b</td>\n",
       "      <td>1.15</td>\n",
       "      <td>1.000000</td>\n",
       "      <td>0.973278</td>\n",
       "      <td>0.986458</td>\n",
       "      <td>13.672</td>\n",
       "      <td>454</td>\n",
       "      <td>33.208</td>\n",
       "    </tr>\n",
       "  </tbody>\n",
       "</table>\n",
       "</div>"
      ],
      "text/plain": [
       "       model_name  repetition_penalty  faithfulness  answer_relevancy  \\\n",
       "14          gpt-4                 NaN      1.000000          0.701869   \n",
       "12  gpt-3.5-turbo                 NaN      0.958333          0.483574   \n",
       "11    llama-2-13b                1.15      0.944444          0.964647   \n",
       "6      orca-2-13b                1.05      1.000000          0.987592   \n",
       "5      llama-2-7b                1.15      1.000000          0.711172   \n",
       "2       orca-2-7b                1.15      1.000000          0.973278   \n",
       "\n",
       "    overall_score  total_time_used  num_tokens_generated  token_per_second  \n",
       "14       0.824822           42.257                   670            15.855  \n",
       "12       0.642795           13.232                   425            32.119  \n",
       "11       0.954439          435.429                   777             1.784  \n",
       "6        0.993757          397.548                   641             1.612  \n",
       "5        0.831210           22.604                   803            35.524  \n",
       "2        0.986458           13.672                   454            33.208  "
      ]
     },
     "execution_count": 4,
     "metadata": {},
     "output_type": "execute_result"
    }
   ],
   "source": [
    "idx = perf_pd1.groupby(\"model_name\")[\"overall_score\"].idxmax()\n",
    "df = perf_pd1.loc[idx].sort_index(ascending=False)\n",
    "df"
   ]
  },
  {
   "cell_type": "code",
   "execution_count": 5,
   "metadata": {},
   "outputs": [
    {
     "data": {
      "text/html": [
       "<div>\n",
       "<style scoped>\n",
       "    .dataframe tbody tr th:only-of-type {\n",
       "        vertical-align: middle;\n",
       "    }\n",
       "\n",
       "    .dataframe tbody tr th {\n",
       "        vertical-align: top;\n",
       "    }\n",
       "\n",
       "    .dataframe thead th {\n",
       "        text-align: right;\n",
       "    }\n",
       "</style>\n",
       "<table border=\"1\" class=\"dataframe\">\n",
       "  <thead>\n",
       "    <tr style=\"text-align: right;\">\n",
       "      <th></th>\n",
       "      <th>model_name</th>\n",
       "      <th>faithfulness</th>\n",
       "      <th>answer_relevancy</th>\n",
       "      <th>overall_score</th>\n",
       "    </tr>\n",
       "  </thead>\n",
       "  <tbody>\n",
       "    <tr>\n",
       "      <th>14</th>\n",
       "      <td>gpt-4</td>\n",
       "      <td>1.000000</td>\n",
       "      <td>0.701869</td>\n",
       "      <td>0.824822</td>\n",
       "    </tr>\n",
       "    <tr>\n",
       "      <th>12</th>\n",
       "      <td>gpt-3.5-turbo</td>\n",
       "      <td>0.958333</td>\n",
       "      <td>0.483574</td>\n",
       "      <td>0.642795</td>\n",
       "    </tr>\n",
       "    <tr>\n",
       "      <th>11</th>\n",
       "      <td>llama-2-13b</td>\n",
       "      <td>0.944444</td>\n",
       "      <td>0.964647</td>\n",
       "      <td>0.954439</td>\n",
       "    </tr>\n",
       "    <tr>\n",
       "      <th>6</th>\n",
       "      <td>orca-2-13b</td>\n",
       "      <td>1.000000</td>\n",
       "      <td>0.987592</td>\n",
       "      <td>0.993757</td>\n",
       "    </tr>\n",
       "    <tr>\n",
       "      <th>5</th>\n",
       "      <td>llama-2-7b</td>\n",
       "      <td>1.000000</td>\n",
       "      <td>0.711172</td>\n",
       "      <td>0.831210</td>\n",
       "    </tr>\n",
       "    <tr>\n",
       "      <th>2</th>\n",
       "      <td>orca-2-7b</td>\n",
       "      <td>1.000000</td>\n",
       "      <td>0.973278</td>\n",
       "      <td>0.986458</td>\n",
       "    </tr>\n",
       "  </tbody>\n",
       "</table>\n",
       "</div>"
      ],
      "text/plain": [
       "       model_name  faithfulness  answer_relevancy  overall_score\n",
       "14          gpt-4      1.000000          0.701869       0.824822\n",
       "12  gpt-3.5-turbo      0.958333          0.483574       0.642795\n",
       "11    llama-2-13b      0.944444          0.964647       0.954439\n",
       "6      orca-2-13b      1.000000          0.987592       0.993757\n",
       "5      llama-2-7b      1.000000          0.711172       0.831210\n",
       "2       orca-2-7b      1.000000          0.973278       0.986458"
      ]
     },
     "execution_count": 5,
     "metadata": {},
     "output_type": "execute_result"
    }
   ],
   "source": [
    "scores = df.loc[:, [\"model_name\", \"faithfulness\", \"answer_relevancy\", \"overall_score\"]]\n",
    "scores"
   ]
  },
  {
   "cell_type": "code",
   "execution_count": 6,
   "metadata": {},
   "outputs": [],
   "source": [
    "scores.rename(columns=lambda x: x.replace(\"_\", \" \"), inplace=True)"
   ]
  },
  {
   "cell_type": "code",
   "execution_count": 7,
   "metadata": {},
   "outputs": [
    {
     "data": {
      "text/html": [
       "<div>\n",
       "<style scoped>\n",
       "    .dataframe tbody tr th:only-of-type {\n",
       "        vertical-align: middle;\n",
       "    }\n",
       "\n",
       "    .dataframe tbody tr th {\n",
       "        vertical-align: top;\n",
       "    }\n",
       "\n",
       "    .dataframe thead th {\n",
       "        text-align: right;\n",
       "    }\n",
       "</style>\n",
       "<table border=\"1\" class=\"dataframe\">\n",
       "  <thead>\n",
       "    <tr style=\"text-align: right;\">\n",
       "      <th></th>\n",
       "      <th>model name</th>\n",
       "      <th>faithfulness</th>\n",
       "      <th>answer relevancy</th>\n",
       "      <th>overall score</th>\n",
       "    </tr>\n",
       "  </thead>\n",
       "  <tbody>\n",
       "    <tr>\n",
       "      <th>14</th>\n",
       "      <td>gpt-4</td>\n",
       "      <td>1.000000</td>\n",
       "      <td>0.701869</td>\n",
       "      <td>0.824822</td>\n",
       "    </tr>\n",
       "    <tr>\n",
       "      <th>12</th>\n",
       "      <td>gpt-3.5-turbo</td>\n",
       "      <td>0.958333</td>\n",
       "      <td>0.483574</td>\n",
       "      <td>0.642795</td>\n",
       "    </tr>\n",
       "    <tr>\n",
       "      <th>11</th>\n",
       "      <td>llama-2-13b</td>\n",
       "      <td>0.944444</td>\n",
       "      <td>0.964647</td>\n",
       "      <td>0.954439</td>\n",
       "    </tr>\n",
       "    <tr>\n",
       "      <th>6</th>\n",
       "      <td>orca-2-13b</td>\n",
       "      <td>1.000000</td>\n",
       "      <td>0.987592</td>\n",
       "      <td>0.993757</td>\n",
       "    </tr>\n",
       "    <tr>\n",
       "      <th>5</th>\n",
       "      <td>llama-2-7b</td>\n",
       "      <td>1.000000</td>\n",
       "      <td>0.711172</td>\n",
       "      <td>0.831210</td>\n",
       "    </tr>\n",
       "    <tr>\n",
       "      <th>2</th>\n",
       "      <td>orca-2-7b</td>\n",
       "      <td>1.000000</td>\n",
       "      <td>0.973278</td>\n",
       "      <td>0.986458</td>\n",
       "    </tr>\n",
       "  </tbody>\n",
       "</table>\n",
       "</div>"
      ],
      "text/plain": [
       "       model name  faithfulness  answer relevancy  overall score\n",
       "14          gpt-4      1.000000          0.701869       0.824822\n",
       "12  gpt-3.5-turbo      0.958333          0.483574       0.642795\n",
       "11    llama-2-13b      0.944444          0.964647       0.954439\n",
       "6      orca-2-13b      1.000000          0.987592       0.993757\n",
       "5      llama-2-7b      1.000000          0.711172       0.831210\n",
       "2       orca-2-7b      1.000000          0.973278       0.986458"
      ]
     },
     "execution_count": 7,
     "metadata": {},
     "output_type": "execute_result"
    }
   ],
   "source": [
    "scores"
   ]
  },
  {
   "cell_type": "code",
   "execution_count": 8,
   "metadata": {},
   "outputs": [
    {
     "data": {
      "text/plain": [
       "array([<Axes: title={'center': 'faithfulness'}>,\n",
       "       <Axes: title={'center': 'answer relevancy'}>,\n",
       "       <Axes: title={'center': 'overall score'}>], dtype=object)"
      ]
     },
     "execution_count": 8,
     "metadata": {},
     "output_type": "execute_result"
    },
    {
     "data": {
      "image/png": "[encoded data removed]",
      "text/plain": [
       "<Figure size 500x700 with 3 Axes>"
      ]
     },
     "metadata": {},
     "output_type": "display_data"
    }
   ],
   "source": [
    "scores.plot.barh(\n",
    "    x=\"model name\",\n",
    "    ylabel=\"\",\n",
    "    rot=0,\n",
    "    figsize=(5, 7),\n",
    "    subplots=True,\n",
    "    legend=False,\n",
    ")"
   ]
  },
  {
   "cell_type": "code",
   "execution_count": 9,
   "metadata": {},
   "outputs": [
    {
     "data": {
      "text/plain": [
       "<Axes: >"
      ]
     },
     "execution_count": 9,
     "metadata": {},
     "output_type": "execute_result"
    },
    {
     "data": {
      "image/png": "[encoded data removed]",
      "text/plain": [
       "<Figure size 500x300 with 1 Axes>"
      ]
     },
     "metadata": {},
     "output_type": "display_data"
    }
   ],
   "source": [
    "speed = df.loc[:, [\"model_name\", \"token_per_second\"]]\n",
    "speed.plot.barh(x=\"model_name\", ylabel=\"\", rot=0, figsize=(5, 3))"
   ]
  },
  {
   "cell_type": "code",
   "execution_count": 10,
   "metadata": {},
   "outputs": [
    {
     "data": {
      "text/plain": [
       "<matplotlib.legend.Legend at 0x12784ab50>"
      ]
     },
     "execution_count": 10,
     "metadata": {},
     "output_type": "execute_result"
    },
    {
     "data": {
      "image/png": "[encoded data removed]",
      "text/plain": [
       "<Figure size 500x400 with 1 Axes>"
      ]
     },
     "metadata": {},
     "output_type": "display_data"
    }
   ],
   "source": [
    "num_tokens_generated = df.loc[:, [\"model_name\", \"num_tokens_generated\"]]\n",
    "num_tokens_generated.plot.barh(x=\"model_name\", ylabel=\"\", rot=0, figsize=(5, 4)).legend(\n",
    "    loc=\"upper right\"\n",
    ")"
   ]
  },
  {
   "cell_type": "code",
   "execution_count": 11,
   "metadata": {},
   "outputs": [
    {
     "data": {
      "text/plain": [
       "array([ 2,  5,  6, 11, 12, 14])"
      ]
     },
     "execution_count": 11,
     "metadata": {},
     "output_type": "execute_result"
    }
   ],
   "source": [
    "parent_index = idx.values\n",
    "parent_index.sort()\n",
    "parent_index"
   ]
  },
  {
   "cell_type": "code",
   "execution_count": 12,
   "metadata": {},
   "outputs": [],
   "source": [
    "selected = []\n",
    "NUM_QUESTIONS = 4\n",
    "for j in range(NUM_QUESTIONS):\n",
    "    for i in idx.values:\n",
    "        selected.append(i * NUM_QUESTIONS + j)"
   ]
  },
  {
   "cell_type": "markdown",
   "metadata": {},
   "source": [
    "### Compare Answers from Different Models"
   ]
  },
  {
   "cell_type": "code",
   "execution_count": 13,
   "metadata": {},
   "outputs": [
    {
     "data": {
      "text/plain": [
       "(4, 6)"
      ]
     },
     "execution_count": 13,
     "metadata": {},
     "output_type": "execute_result"
    }
   ],
   "source": [
    "raw_data = pd.read_excel(\"./results/raw_data.xlsx\")\n",
    "df = raw_data.loc[selected]\n",
    "\n",
    "questions = df[\"user_question\"].unique()\n",
    "NUM_QUESTIONS = len(questions)\n",
    "\n",
    "models = df[\"model_name\"].unique()\n",
    "NUM_MODELS = len(models)\n",
    "\n",
    "NUM_QUESTIONS, NUM_MODELS"
   ]
  },
  {
   "cell_type": "code",
   "execution_count": 14,
   "metadata": {},
   "outputs": [
    {
     "data": {
      "text/html": [
       "<div>\n",
       "<style scoped>\n",
       "    .dataframe tbody tr th:only-of-type {\n",
       "        vertical-align: middle;\n",
       "    }\n",
       "\n",
       "    .dataframe tbody tr th {\n",
       "        vertical-align: top;\n",
       "    }\n",
       "\n",
       "    .dataframe thead th {\n",
       "        text-align: right;\n",
       "    }\n",
       "</style>\n",
       "<table border=\"1\" class=\"dataframe\">\n",
       "  <thead>\n",
       "    <tr style=\"text-align: right;\">\n",
       "      <th></th>\n",
       "      <th>Model Name</th>\n",
       "      <th>LLM Generated Content</th>\n",
       "    </tr>\n",
       "  </thead>\n",
       "  <tbody>\n",
       "    <tr>\n",
       "      <th>0</th>\n",
       "      <td>orca-2-7b</td>\n",
       "      <td>PCI DSS stands for Payment Card Industry Data ...</td>\n",
       "    </tr>\n",
       "    <tr>\n",
       "      <th>1</th>\n",
       "      <td>llama-2-7b</td>\n",
       "      <td>According to the given quick reference guide, ...</td>\n",
       "    </tr>\n",
       "    <tr>\n",
       "      <th>2</th>\n",
       "      <td>orca-2-13b</td>\n",
       "      <td>PCI DSS is a global standard that provides a b...</td>\n",
       "    </tr>\n",
       "    <tr>\n",
       "      <th>3</th>\n",
       "      <td>llama-2-13b</td>\n",
       "      <td>PCI DSS stands for Payment Card Industry Data ...</td>\n",
       "    </tr>\n",
       "    <tr>\n",
       "      <th>4</th>\n",
       "      <td>gpt-3.5-turbo</td>\n",
       "      <td>PCI DSS stands for Payment Card Industry Data ...</td>\n",
       "    </tr>\n",
       "    <tr>\n",
       "      <th>5</th>\n",
       "      <td>gpt-4</td>\n",
       "      <td>The PCI Data Security Standard (PCI DSS) is a ...</td>\n",
       "    </tr>\n",
       "    <tr>\n",
       "      <th>6</th>\n",
       "      <td>orca-2-7b</td>\n",
       "      <td>**How has the latest version of PCI DSS, versi...</td>\n",
       "    </tr>\n",
       "    <tr>\n",
       "      <th>7</th>\n",
       "      <td>llama-2-7b</td>\n",
       "      <td>**What are the key changes between PCI DSS ver...</td>\n",
       "    </tr>\n",
       "    <tr>\n",
       "      <th>8</th>\n",
       "      <td>orca-2-13b</td>\n",
       "      <td>**¿Puedes resumir los cambios realizados desde...</td>\n",
       "    </tr>\n",
       "    <tr>\n",
       "      <th>9</th>\n",
       "      <td>llama-2-13b</td>\n",
       "      <td>**What are the key changes between PCI DSS ver...</td>\n",
       "    </tr>\n",
       "    <tr>\n",
       "      <th>10</th>\n",
       "      <td>gpt-3.5-turbo</td>\n",
       "      <td>**What are the differences between PCI DSS ver...</td>\n",
       "    </tr>\n",
       "    <tr>\n",
       "      <th>11</th>\n",
       "      <td>gpt-4</td>\n",
       "      <td>**Can you provide a summary of the changes tha...</td>\n",
       "    </tr>\n",
       "    <tr>\n",
       "      <th>12</th>\n",
       "      <td>orca-2-7b</td>\n",
       "      <td>**What are some new requirements for vulnerabi...</td>\n",
       "    </tr>\n",
       "    <tr>\n",
       "      <th>13</th>\n",
       "      <td>llama-2-7b</td>\n",
       "      <td>**What are some of the new requirements for vu...</td>\n",
       "    </tr>\n",
       "    <tr>\n",
       "      <th>14</th>\n",
       "      <td>orca-2-13b</td>\n",
       "      <td>**¿Cuáles son las nuevas requisitos para las e...</td>\n",
       "    </tr>\n",
       "    <tr>\n",
       "      <th>15</th>\n",
       "      <td>llama-2-13b</td>\n",
       "      <td>**What are the new requirements for vulnerabil...</td>\n",
       "    </tr>\n",
       "    <tr>\n",
       "      <th>16</th>\n",
       "      <td>gpt-3.5-turbo</td>\n",
       "      <td>**What are the new requirements for vulnerabil...</td>\n",
       "    </tr>\n",
       "    <tr>\n",
       "      <th>17</th>\n",
       "      <td>gpt-4</td>\n",
       "      <td>**What are the new requirements for vulnerabil...</td>\n",
       "    </tr>\n",
       "    <tr>\n",
       "      <th>18</th>\n",
       "      <td>orca-2-7b</td>\n",
       "      <td>**What are some best practices for conducting ...</td>\n",
       "    </tr>\n",
       "    <tr>\n",
       "      <th>19</th>\n",
       "      <td>llama-2-7b</td>\n",
       "      <td>**Could you explain what penetration testing e...</td>\n",
       "    </tr>\n",
       "    <tr>\n",
       "      <th>20</th>\n",
       "      <td>orca-2-13b</td>\n",
       "      <td>**¿Puedes dar más detalles sobre las prácticas...</td>\n",
       "    </tr>\n",
       "    <tr>\n",
       "      <th>21</th>\n",
       "      <td>llama-2-13b</td>\n",
       "      <td>**What are the new requirements for penetratio...</td>\n",
       "    </tr>\n",
       "    <tr>\n",
       "      <th>22</th>\n",
       "      <td>gpt-3.5-turbo</td>\n",
       "      <td>**Can you provide more information about the c...</td>\n",
       "    </tr>\n",
       "    <tr>\n",
       "      <th>23</th>\n",
       "      <td>gpt-4</td>\n",
       "      <td>**Can you provide more information on penetrat...</td>\n",
       "    </tr>\n",
       "  </tbody>\n",
       "</table>\n",
       "</div>"
      ],
      "text/plain": [
       "       Model Name                              LLM Generated Content\n",
       "0       orca-2-7b  PCI DSS stands for Payment Card Industry Data ...\n",
       "1      llama-2-7b  According to the given quick reference guide, ...\n",
       "2      orca-2-13b  PCI DSS is a global standard that provides a b...\n",
       "3     llama-2-13b  PCI DSS stands for Payment Card Industry Data ...\n",
       "4   gpt-3.5-turbo  PCI DSS stands for Payment Card Industry Data ...\n",
       "5           gpt-4  The PCI Data Security Standard (PCI DSS) is a ...\n",
       "6       orca-2-7b  **How has the latest version of PCI DSS, versi...\n",
       "7      llama-2-7b  **What are the key changes between PCI DSS ver...\n",
       "8      orca-2-13b  **¿Puedes resumir los cambios realizados desde...\n",
       "9     llama-2-13b  **What are the key changes between PCI DSS ver...\n",
       "10  gpt-3.5-turbo  **What are the differences between PCI DSS ver...\n",
       "11          gpt-4  **Can you provide a summary of the changes tha...\n",
       "12      orca-2-7b  **What are some new requirements for vulnerabi...\n",
       "13     llama-2-7b  **What are some of the new requirements for vu...\n",
       "14     orca-2-13b  **¿Cuáles son las nuevas requisitos para las e...\n",
       "15    llama-2-13b  **What are the new requirements for vulnerabil...\n",
       "16  gpt-3.5-turbo  **What are the new requirements for vulnerabil...\n",
       "17          gpt-4  **What are the new requirements for vulnerabil...\n",
       "18      orca-2-7b  **What are some best practices for conducting ...\n",
       "19     llama-2-7b  **Could you explain what penetration testing e...\n",
       "20     orca-2-13b  **¿Puedes dar más detalles sobre las prácticas...\n",
       "21    llama-2-13b  **What are the new requirements for penetratio...\n",
       "22  gpt-3.5-turbo  **Can you provide more information about the c...\n",
       "23          gpt-4  **Can you provide more information on penetrat..."
      ]
     },
     "execution_count": 14,
     "metadata": {},
     "output_type": "execute_result"
    }
   ],
   "source": [
    "df = df.drop([\"repetition_penalty\", \"contexts\"], axis=1)\n",
    "df = df.fillna(\"\")\n",
    "df[df.columns] = df.apply(lambda x: x.str.strip())\n",
    "df[\"standalone_question\"] = df[\"standalone_question\"].str.replace(\"\\n\", \"**\\n**\")\n",
    "df[\"standalone_question\"] = df[\"standalone_question\"].apply(\n",
    "    lambda x: \"{}{}{}\".format(\"**\", x, \"**\") if len(x) > 0 else x\n",
    ")\n",
    "df[\"standalone_question\"] = df[\"standalone_question\"].str.replace(\"****\", \"\")\n",
    "df[\"LLM Generated Content\"] = (\n",
    "    df[\"standalone_question\"].str.cat(df[\"answer\"], sep=\"\\n\").str.strip()\n",
    ")\n",
    "df = df.rename(columns={\"model_name\": \"Model Name\"})\n",
    "df = df.drop(columns=[\"answer\", \"standalone_question\", \"user_question\"])\n",
    "df[df.columns] = df.apply(lambda x: x.str.strip())\n",
    "df.reset_index(drop=True, inplace=True)\n",
    "df"
   ]
  },
  {
   "cell_type": "code",
   "execution_count": 15,
   "metadata": {},
   "outputs": [],
   "source": [
    "conversations = []\n",
    "for i in range(NUM_QUESTIONS):\n",
    "    conversations.append(df[i * NUM_MODELS : i * NUM_MODELS + NUM_MODELS])"
   ]
  },
  {
   "cell_type": "code",
   "execution_count": 16,
   "metadata": {},
   "outputs": [],
   "source": [
    "def print_conversation(index):\n",
    "    print(f\"### {questions[index]}\\n\")\n",
    "    print(conversations[index].to_markdown(index=False))"
   ]
  },
  {
   "cell_type": "code",
   "execution_count": 17,
   "metadata": {},
   "outputs": [
    {
     "name": "stdout",
     "output_type": "stream",
     "text": [
      "### What's PCI DSS?\n",
      "\n",
      "| Model Name    | LLM Generated Content                                                                                                                                                                                                                                                                                                                                                                                                                                                                                                       |\n",
      "|:--------------|:----------------------------------------------------------------------------------------------------------------------------------------------------------------------------------------------------------------------------------------------------------------------------------------------------------------------------------------------------------------------------------------------------------------------------------------------------------------------------------------------------------------------------|\n",
      "| orca-2-7b     | PCI DSS stands for Payment Card Industry Data Security Standard. It is a set of rules and guidelines created to protect payment data and ensure the security of cardholder information.                                                                                                                                                                                                                                                                                                                                     |\n",
      "| llama-2-7b    | According to the given quick reference guide, PCI DSS stands for \"Payment Card Industry Data Security Standard.\" It is a global standard providing a baseline of technical and operational requirements designed to protect payment account data.                                                                                                                                                                                                                                                                           |\n",
      "| orca-2-13b    | PCI DSS is a global standard that provides a baseline of technical and operational requirements designed to protect payment account data. It helps ensure the security of cardholder data and reduces the risk of cyberattacks.                                                                                                                                                                                                                                                                                             |\n",
      "| llama-2-13b   | PCI DSS stands for Payment Card Industry Data Security Standard. It's a set of security requirements designed to protect payment card data.                                                                                                                                                                                                                                                                                                                                                                                 |\n",
      "| gpt-3.5-turbo | PCI DSS stands for Payment Card Industry Data Security Standard. It is a global standard that outlines the technical and operational requirements for protecting payment card data. The standard provides guidelines and security controls to help organizations build and maintain a secure network, protect account data, maintain a vulnerability management program, and implement strong access control measures. Compliance with PCI DSS is required for any organization that handles payment card data.             |\n",
      "| gpt-4         | The PCI Data Security Standard (PCI DSS) is a global standard that provides a baseline of technical and operational requirements designed to protect payment account data. It includes requirements for building and maintaining a secure network, protecting account data, maintaining a vulnerability management program, and implementing strong access control measures. The standard is intended to protect payment data and address sophisticated cyber attacks. It is managed by the PCI Security Standards Council. |\n"
     ]
    }
   ],
   "source": [
    "print_conversation(0)"
   ]
  },
  {
   "cell_type": "markdown",
   "metadata": {},
   "source": [
    "### What's PCI DSS?\n",
    "\n",
    "| Model Name    | LLM Generated Content                                                                                                                                                                                                                                                                                                                                                                                                                                                                                                       |\n",
    "|:--------------|:----------------------------------------------------------------------------------------------------------------------------------------------------------------------------------------------------------------------------------------------------------------------------------------------------------------------------------------------------------------------------------------------------------------------------------------------------------------------------------------------------------------------------|\n",
    "| orca-2-7b     | PCI DSS stands for Payment Card Industry Data Security Standard. It is a set of rules and guidelines created to protect payment data and ensure the security of cardholder information.                                                                                                                                                                                                                                                                                                                                     |\n",
    "| llama-2-7b    | According to the given quick reference guide, PCI DSS stands for \"Payment Card Industry Data Security Standard.\" It is a global standard providing a baseline of technical and operational requirements designed to protect payment account data.                                                                                                                                                                                                                                                                           |\n",
    "| orca-2-13b    | PCI DSS is a global standard that provides a baseline of technical and operational requirements designed to protect payment account data. It helps ensure the security of cardholder data and reduces the risk of cyberattacks.                                                                                                                                                                                                                                                                                             |\n",
    "| llama-2-13b   | PCI DSS stands for Payment Card Industry Data Security Standard. It's a set of security requirements designed to protect payment card data.                                                                                                                                                                                                                                                                                                                                                                                 |\n",
    "| gpt-3.5-turbo | PCI DSS stands for Payment Card Industry Data Security Standard. It is a global standard that outlines the technical and operational requirements for protecting payment card data. The standard provides guidelines and security controls to help organizations build and maintain a secure network, protect account data, maintain a vulnerability management program, and implement strong access control measures. Compliance with PCI DSS is required for any organization that handles payment card data.             |\n",
    "| gpt-4         | The PCI Data Security Standard (PCI DSS) is a global standard that provides a baseline of technical and operational requirements designed to protect payment account data. It includes requirements for building and maintaining a secure network, protecting account data, maintaining a vulnerability management program, and implementing strong access control measures. The standard is intended to protect payment data and address sophisticated cyber attacks. It is managed by the PCI Security Standards Council. |"
   ]
  },
  {
   "cell_type": "code",
   "execution_count": 18,
   "metadata": {},
   "outputs": [
    {
     "name": "stdout",
     "output_type": "stream",
     "text": [
      "### Can you summarize the changes made from PCI DSS version 3.2.1 to version 4.0?\n",
      "\n",
      "| Model Name    | LLM Generated Content                                                                                                                                                                                                                                                                                                                                                                                                                                                                                                                                                                                                                                                                         |\n",
      "|:--------------|:----------------------------------------------------------------------------------------------------------------------------------------------------------------------------------------------------------------------------------------------------------------------------------------------------------------------------------------------------------------------------------------------------------------------------------------------------------------------------------------------------------------------------------------------------------------------------------------------------------------------------------------------------------------------------------------------|\n",
      "| orca-2-7b     | **How has the latest version of PCI DSS, version 4.0, differed from the previous version, 3.2.1?**                                                                                                                                                                                                                                                                                                                                                                                                                                                                                                                                                                                            |\n",
      "|               | The latest version of PCI DSS, version 4.0, differs from the previous version, 3.2.1, by including updates to align with the changes from PCI DSS v3.2.1 to PCI DSS v4.0.                                                                                                                                                                                                                                                                                                                                                                                                                                                                                                                     |\n",
      "| llama-2-7b    | **What are the key changes between PCI DSS versions 3.2.1 and 4.0?**                                                                                                                                                                                                                                                                                                                                                                                                                                                                                                                                                                                                                          |\n",
      "|               | The document highlights several significant modifications between PCI DSS versions 3.2.1 and 4.0, including updates to introductory sections, general adjustments to requirements, and extra alterations according to each requirement. However, I cannot provide detailed information about these changes without access to the full version of the standard or expertise in PCI compliance.                                                                                                                                                                                                                                                                                                 |\n",
      "| orca-2-13b    | **¿Puedes resumir los cambios realizados desde la versión 3.2.1 hasta la versión 4.0 de PCI DSS?**                                                                                                                                                                                                                                                                                                                                                                                                                                                                                                                                                                                            |\n",
      "|               | Sí, puedo resumir los cambios realizados desde la versión 3.2.1 hasta la versión 4.0 de PCI DSS. Los cambios incluyen ajustes para alinear con las modificaciones de PCI DSS 3.2 a PCI DSS 3.2.1, así como correcciones y ediciones menores para aclarar y mejorar el formato. Luego, en la versión 4.0, se realizaron actualizaciones para alinear con las modificaciones de PCI DSS 3.2.1 a PCI DSS 4.0, y también se realizaron correcciones y ediciones menores para aclarar y mejorar el formato. En diciembre de 2022, hubo una revisión adicional que incluyó ajustes menores, corrección de errores tipográficos y eliminación de \"In Place with Remediation\" como opción de informe. |\n",
      "| llama-2-13b   | **What are the key changes between PCI DSS version 3.2.1 and version 4.0?**                                                                                                                                                                                                                                                                                                                                                                                                                                                                                                                                                                                                                   |\n",
      "|               |                                                                                                                                                                                                                                                                                                                                                                                                                                                                                                                                                                                                                                                                                               |\n",
      "|               | **Please help me with this! Thank you so much!**                                                                                                                                                                                                                                                                                                                                                                                                                                                                                                                                                                                                                                              |\n",
      "|               | Based on the provided document, here are some key changes between PCI DSS version 3.2.1 and version 4.0:                                                                                                                                                                                                                                                                                                                                                                                                                                                                                                                                                                                      |\n",
      "|               |                                                                                                                                                                                                                                                                                                                                                                                                                                                                                                                                                                                                                                                                                               |\n",
      "|               | 1. The introduction has been updated to reflect the new version number (4.0) and to note that the standard should be reviewed in its entirety due to the extent of changes.                                                                                                                                                                                                                                                                                                                                                                                                                                                                                                                   |\n",
      "|               | 2. There have been significant updates to the introductory sections, including changes to the definitions of \"account information\" and \"sensitive authentication data.\"                                                                                                                                                                                                                                                                                                                                                                                                                                                                                                                       |\n",
      "|               | 3. Requirement 8.3.9 has been updated to clarify that multi-factor authentication is required for all remote access to the cardholder data environment.                                                                                                                                                                                                                                                                                                                                                                                                                                                                                                                                       |\n",
      "|               | 4. Requirement 6.3.3 has been updated to require that all user accounts have expiration dates and prohibit password reuse within the last four years.                                                                                                                                                                                                                                                                                                                                                                                                                                                                                                                                         |\n",
      "|               | 5. A new requirement (3.6.1.1) has been added to mandate the use of secure protocols for all network communication.                                                                                                                                                                                                                                                                                                                                                                                                                                                                                                                                                                           |\n",
      "|               | 6. Minor corrections and edits have been made throughout the document for clarification and formatting purposes.                                                                                                                                                                                                                                                                                                                                                                                                                                                                                                                                                                              |\n",
      "| gpt-3.5-turbo | **What are the differences between PCI DSS version 3.2.1 and version 4.0?**                                                                                                                                                                                                                                                                                                                                                                                                                                                                                                                                                                                                                   |\n",
      "|               | The document provided does not specify the specific differences between PCI DSS version 3.2.1 and version 4.0. It only states that it provides a high-level summary and description of the changes from version 3.2.1 to version 4.0. It suggests reviewing the entire standard for a comprehensive understanding of the changes.                                                                                                                                                                                                                                                                                                                                                             |\n",
      "| gpt-4         | **Can you provide a summary of the changes that were made from version 3.2.1 to version 4.0 of the PCI Data Security Standard (PCI DSS)?**                                                                                                                                                                                                                                                                                                                                                                                                                                                                                                                                                    |\n",
      "|               | I'm sorry, but the provided context does not include specific details about the changes made from version 3.2.1 to version 4.0 of the PCI Data Security Standard (PCI DSS). It only mentions that there were changes and that they are detailed in a document, but it does not provide the actual changes.                                                                                                                                                                                                                                                                                                                                                                                    |\n"
     ]
    }
   ],
   "source": [
    "print_conversation(1)"
   ]
  },
  {
   "cell_type": "markdown",
   "metadata": {},
   "source": [
    "### Can you summarize the changes made from PCI DSS version 3.2.1 to version 4.0?\n",
    "\n",
    "| Model Name    | LLM Generated Content                                                                                                                                                                                                                                                                                                                                                                                                                                                                                                                                                                                                                                                                         |\n",
    "|:--------------|:----------------------------------------------------------------------------------------------------------------------------------------------------------------------------------------------------------------------------------------------------------------------------------------------------------------------------------------------------------------------------------------------------------------------------------------------------------------------------------------------------------------------------------------------------------------------------------------------------------------------------------------------------------------------------------------------|\n",
    "| orca-2-7b     | **How has the latest version of PCI DSS, version 4.0, differed from the previous version, 3.2.1?**                                                                                                                                                                                                                                                                                                                                                                                                                                                                                                                                                                                            |\n",
    "|               | The latest version of PCI DSS, version 4.0, differs from the previous version, 3.2.1, by including updates to align with the changes from PCI DSS v3.2.1 to PCI DSS v4.0.                                                                                                                                                                                                                                                                                                                                                                                                                                                                                                                     |\n",
    "| llama-2-7b    | **What are the key changes between PCI DSS versions 3.2.1 and 4.0?**                                                                                                                                                                                                                                                                                                                                                                                                                                                                                                                                                                                                                          |\n",
    "|               | The document highlights several significant modifications between PCI DSS versions 3.2.1 and 4.0, including updates to introductory sections, general adjustments to requirements, and extra alterations according to each requirement. However, I cannot provide detailed information about these changes without access to the full version of the standard or expertise in PCI compliance.                                                                                                                                                                                                                                                                                                 |\n",
    "| orca-2-13b    | **¿Puedes resumir los cambios realizados desde la versión 3.2.1 hasta la versión 4.0 de PCI DSS?**                                                                                                                                                                                                                                                                                                                                                                                                                                                                                                                                                                                            |\n",
    "|               | Sí, puedo resumir los cambios realizados desde la versión 3.2.1 hasta la versión 4.0 de PCI DSS. Los cambios incluyen ajustes para alinear con las modificaciones de PCI DSS 3.2 a PCI DSS 3.2.1, así como correcciones y ediciones menores para aclarar y mejorar el formato. Luego, en la versión 4.0, se realizaron actualizaciones para alinear con las modificaciones de PCI DSS 3.2.1 a PCI DSS 4.0, y también se realizaron correcciones y ediciones menores para aclarar y mejorar el formato. En diciembre de 2022, hubo una revisión adicional que incluyó ajustes menores, corrección de errores tipográficos y eliminación de \"In Place with Remediation\" como opción de informe. |\n",
    "| llama-2-13b   | **What are the key changes between PCI DSS version 3.2.1 and version 4.0?**                                                                                                                                                                                                                                                                                                                                                                                                                                                                                                                                                                                                                   |\n",
    "|               |                                                                                                                                                                                                                                                                                                                                                                                                                                                                                                                                                                                                                                                                                               |\n",
    "|               | **Please help me with this! Thank you so much!**                                                                                                                                                                                                                                                                                                                                                                                                                                                                                                                                                                                                                                              |\n",
    "|               | Based on the provided document, here are some key changes between PCI DSS version 3.2.1 and version 4.0:                                                                                                                                                                                                                                                                                                                                                                                                                                                                                                                                                                                      |\n",
    "|               |                                                                                                                                                                                                                                                                                                                                                                                                                                                                                                                                                                                                                                                                                               |\n",
    "|               | 1. The introduction has been updated to reflect the new version number (4.0) and to note that the standard should be reviewed in its entirety due to the extent of changes.                                                                                                                                                                                                                                                                                                                                                                                                                                                                                                                   |\n",
    "|               | 2. There have been significant updates to the introductory sections, including changes to the definitions of \"account information\" and \"sensitive authentication data.\"                                                                                                                                                                                                                                                                                                                                                                                                                                                                                                                       |\n",
    "|               | 3. Requirement 8.3.9 has been updated to clarify that multi-factor authentication is required for all remote access to the cardholder data environment.                                                                                                                                                                                                                                                                                                                                                                                                                                                                                                                                       |\n",
    "|               | 4. Requirement 6.3.3 has been updated to require that all user accounts have expiration dates and prohibit password reuse within the last four years.                                                                                                                                                                                                                                                                                                                                                                                                                                                                                                                                         |\n",
    "|               | 5. A new requirement (3.6.1.1) has been added to mandate the use of secure protocols for all network communication.                                                                                                                                                                                                                                                                                                                                                                                                                                                                                                                                                                           |\n",
    "|               | 6. Minor corrections and edits have been made throughout the document for clarification and formatting purposes.                                                                                                                                                                                                                                                                                                                                                                                                                                                                                                                                                                              |\n",
    "| gpt-3.5-turbo | **What are the differences between PCI DSS version 3.2.1 and version 4.0?**                                                                                                                                                                                                                                                                                                                                                                                                                                                                                                                                                                                                                   |\n",
    "|               | The document provided does not specify the specific differences between PCI DSS version 3.2.1 and version 4.0. It only states that it provides a high-level summary and description of the changes from version 3.2.1 to version 4.0. It suggests reviewing the entire standard for a comprehensive understanding of the changes.                                                                                                                                                                                                                                                                                                                                                             |\n",
    "| gpt-4         | **Can you provide a summary of the changes that were made from version 3.2.1 to version 4.0 of the PCI Data Security Standard (PCI DSS)?**                                                                                                                                                                                                                                                                                                                                                                                                                                                                                                                                                    |\n",
    "|               | I'm sorry, but the provided context does not include specific details about the changes made from version 3.2.1 to version 4.0 of the PCI Data Security Standard (PCI DSS). It only mentions that there were changes and that they are detailed in a document, but it does not provide the actual changes.                                                                                                                                                                                                                                                                                                                                                                                    |"
   ]
  },
  {
   "cell_type": "code",
   "execution_count": 19,
   "metadata": {},
   "outputs": [
    {
     "name": "stdout",
     "output_type": "stream",
     "text": [
      "### new requirements for vulnerability assessments\n",
      "\n",
      "| Model Name    | LLM Generated Content                                                                                                                                                                                                                                                                                                                                                                                                                                                  |\n",
      "|:--------------|:-----------------------------------------------------------------------------------------------------------------------------------------------------------------------------------------------------------------------------------------------------------------------------------------------------------------------------------------------------------------------------------------------------------------------------------------------------------------------|\n",
      "| orca-2-7b     | **What are some new requirements for vulnerability assessments introduced in PCI DSS version 4.0?**                                                                                                                                                                                                                                                                                                                                                                    |\n",
      "|               | Some new requirements for vulnerability assessments introduced in PCI DSS version 4.0 include:                                                                                                                                                                                                                                                                                                                                                                         |\n",
      "|               |                                                                                                                                                                                                                                                                                                                                                                                                                                                                        |\n",
      "|               | - Performing a targeted risk analysis to determine the frequency of log reviews for all other system components (Requirement 10.4.2.1)                                                                                                                                                                                                                                                                                                                                 |\n",
      "|               | - Ensuring failures of critical security control systems are detected, alerted, and addressed promptly (Requirement 10.7.2), and responded to promptly (Requirement 10.7.3)                                                                                                                                                                                                                                                                                            |\n",
      "|               | - Documenting, assigning, and understanding roles and responsibilities for performing activities in Requirement 11 (Requirement 11.1.2)                                                                                                                                                                                                                                                                                                                                |\n",
      "|               | - Managing all applicable vulnerabilities not ranked as high-risk or critical (Requirement 11.3.1.1)                                                                                                                                                                                                                                                                                                                                                                   |\n",
      "|               | - Performing internal vulnerability scans via authenticated scanning (Requirement 11.3.1.2)                                                                                                                                                                                                                                                                                                                                                                            |\n",
      "| llama-2-7b    | **What are some of the new requirements for vulnerability assessments introduced in PCI DSS version 4.0 compared to previous versions?**                                                                                                                                                                                                                                                                                                                               |\n",
      "|               | According to the provided documents, one of the new requirements for vulnerability assessments introduced in PCI DSS version 4.0 is the addition of a bullet point in requirement 6.3.1 to clarify applicability to vulnerabilities for bespoke and custom and third-party software (see page 10). Additionally, there is a new requirement for maintaining an inventory of trusted keys and certificates (see page 1), which is a best practice until March 31, 2025. |\n",
      "| orca-2-13b    | **¿Cuáles son las nuevas requisitos para las evaluaciones de vulnerabilidades en la versión 4.0 de PCI DSS?**                                                                                                                                                                                                                                                                                                                                                          |\n",
      "|               | Las nuevas requisitos para las evaluaciones de vulnerabilidades en la versión 4.0 de PCI DSS incluyen resolver vulnerabilidades con una puntuación de 4.0 o más en el CVSS, realizar rescans cuando sea necesario, y tener un método de penetration testing definido, documentado e implementado que incluye enfoques aceptados por la industria y cobertura para el perímetro del SDE y los sistemas críticos.                                                        |\n",
      "| llama-2-13b   | **What are the new requirements for vulnerability assessments in PCI DSS version 4.0?**                                                                                                                                                                                                                                                                                                                                                                                |\n",
      "|               | According to the provided document, there are several new requirements for vulnerability assessments in PCI DSS version 4.0. These include:                                                                                                                                                                                                                                                                                                                            |\n",
      "|               |                                                                                                                                                                                                                                                                                                                                                                                                                                                                        |\n",
      "|               | * Performing a targeted risk analysis to determine the frequency of log reviews for all other system components (10.4.2.1)                                                                                                                                                                                                                                                                                                                                             |\n",
      "|               | * Detecting, alerting, and addressing failures of critical security control systems promptly (10.7.2 and 10.7.3)                                                                                                                                                                                                                                                                                                                                                       |\n",
      "|               | * Documenting, assigning, and understanding roles and responsibilities for performing activities in Requirement 11 (11.1.2)                                                                                                                                                                                                                                                                                                                                            |\n",
      "|               | * Managing all other applicable vulnerabilities (not ranked as high-risk or critical) (11.3.1.1)                                                                                                                                                                                                                                                                                                                                                                       |\n",
      "|               | * Performing internal vulnerability scans via authenticated scanning (11.3.1.2)                                                                                                                                                                                                                                                                                                                                                                                        |\n",
      "|               | * Supporting multi-tenant services (11.4.7)                                                                                                                                                                                                                                                                                                                                                                                                                            |\n",
      "|               | * Implementing processes or mechanisms for reporting and addressing suspected or confirmed security incidents and vulnerabilities (A1.2.3)                                                                                                                                                                                                                                                                                                                             |\n",
      "|               | * Detecting, alerting, and reporting failures of automated log review mechanisms and automated code review tools in a timely manner (A3.3.1)                                                                                                                                                                                                                                                                                                                           |\n",
      "| gpt-3.5-turbo | **What are the new requirements for vulnerability assessments in PCI DSS version 4.0?**                                                                                                                                                                                                                                                                                                                                                                                |\n",
      "|               | In PCI DSS version 4.0, there are several new requirements for vulnerability assessments. Here are the new requirements:                                                                                                                                                                                                                                                                                                                                               |\n",
      "|               |                                                                                                                                                                                                                                                                                                                                                                                                                                                                        |\n",
      "|               | - Requirement 11.3.1.1: Manage all other applicable vulnerabilities (those not ranked as high-risk or critical).                                                                                                                                                                                                                                                                                                                                                       |\n",
      "|               | - Requirement 11.3.1.2: Internal vulnerability scans are performed via authenticated scanning.                                                                                                                                                                                                                                                                                                                                                                         |\n",
      "|               | - Requirement A3.3.1: Failures of automated log review mechanisms and automated code review tools are detected, alerted, and reported in a timely manner.                                                                                                                                                                                                                                                                                                              |\n",
      "|               |                                                                                                                                                                                                                                                                                                                                                                                                                                                                        |\n",
      "|               | These new requirements are applicable to all entities and service providers and are effective immediately for all v4.0 assessments.                                                                                                                                                                                                                                                                                                                                    |\n",
      "| gpt-4         | **What are the new requirements for vulnerability assessments in the PCI DSS?**                                                                                                                                                                                                                                                                                                                                                                                        |\n",
      "|               | The new requirements for vulnerability assessments in the PCI DSS v4.0 as compared to v3.2.1 are:                                                                                                                                                                                                                                                                                                                                                                      |\n",
      "|               |                                                                                                                                                                                                                                                                                                                                                                                                                                                                        |\n",
      "|               | 1. Requirement 10.4.2.1: A targeted risk analysis is performed to determine the frequency of log reviews for all other system components.                                                                                                                                                                                                                                                                                                                              |\n",
      "|               |                                                                                                                                                                                                                                                                                                                                                                                                                                                                        |\n",
      "|               | 2. Requirement 11.3.1.1: Manage all other applicable vulnerabilities (those not ranked as high-risk or critical).                                                                                                                                                                                                                                                                                                                                                      |\n",
      "|               |                                                                                                                                                                                                                                                                                                                                                                                                                                                                        |\n",
      "|               | 3. Requirement 11.3.1.2: Internal vulnerability scans are performed via authenticated scanning.                                                                                                                                                                                                                                                                                                                                                                        |\n",
      "|               |                                                                                                                                                                                                                                                                                                                                                                                                                                                                        |\n",
      "|               | 4. Requirement A1.2.3: The multi-tenant service provider implements processes or mechanisms for reporting and addressing suspected or confirmed security incidents and vulnerabilities.                                                                                                                                                                                                                                                                                |\n",
      "|               |                                                                                                                                                                                                                                                                                                                                                                                                                                                                        |\n",
      "|               | 5. Requirement A3.3.1: Failures of the following are detected, alerted, and reported in a timely manner: Automated log review mechanisms and Automated code review tools.                                                                                                                                                                                                                                                                                              |\n"
     ]
    }
   ],
   "source": [
    "print_conversation(2)"
   ]
  },
  {
   "cell_type": "markdown",
   "metadata": {},
   "source": [
    "### new requirements for vulnerability assessments\n",
    "\n",
    "| Model Name    | LLM Generated Content                                                                                                                                                                                                                                                                                                                                                                                                                                                  |\n",
    "|:--------------|:-----------------------------------------------------------------------------------------------------------------------------------------------------------------------------------------------------------------------------------------------------------------------------------------------------------------------------------------------------------------------------------------------------------------------------------------------------------------------|\n",
    "| orca-2-7b     | **What are some new requirements for vulnerability assessments introduced in PCI DSS version 4.0?**                                                                                                                                                                                                                                                                                                                                                                    |\n",
    "|               | Some new requirements for vulnerability assessments introduced in PCI DSS version 4.0 include:                                                                                                                                                                                                                                                                                                                                                                         |\n",
    "|               |                                                                                                                                                                                                                                                                                                                                                                                                                                                                        |\n",
    "|               | - Performing a targeted risk analysis to determine the frequency of log reviews for all other system components (Requirement 10.4.2.1)                                                                                                                                                                                                                                                                                                                                 |\n",
    "|               | - Ensuring failures of critical security control systems are detected, alerted, and addressed promptly (Requirement 10.7.2), and responded to promptly (Requirement 10.7.3)                                                                                                                                                                                                                                                                                            |\n",
    "|               | - Documenting, assigning, and understanding roles and responsibilities for performing activities in Requirement 11 (Requirement 11.1.2)                                                                                                                                                                                                                                                                                                                                |\n",
    "|               | - Managing all applicable vulnerabilities not ranked as high-risk or critical (Requirement 11.3.1.1)                                                                                                                                                                                                                                                                                                                                                                   |\n",
    "|               | - Performing internal vulnerability scans via authenticated scanning (Requirement 11.3.1.2)                                                                                                                                                                                                                                                                                                                                                                            |\n",
    "| llama-2-7b    | **What are some of the new requirements for vulnerability assessments introduced in PCI DSS version 4.0 compared to previous versions?**                                                                                                                                                                                                                                                                                                                               |\n",
    "|               | According to the provided documents, one of the new requirements for vulnerability assessments introduced in PCI DSS version 4.0 is the addition of a bullet point in requirement 6.3.1 to clarify applicability to vulnerabilities for bespoke and custom and third-party software (see page 10). Additionally, there is a new requirement for maintaining an inventory of trusted keys and certificates (see page 1), which is a best practice until March 31, 2025. |\n",
    "| orca-2-13b    | **¿Cuáles son las nuevas requisitos para las evaluaciones de vulnerabilidades en la versión 4.0 de PCI DSS?**                                                                                                                                                                                                                                                                                                                                                          |\n",
    "|               | Las nuevas requisitos para las evaluaciones de vulnerabilidades en la versión 4.0 de PCI DSS incluyen resolver vulnerabilidades con una puntuación de 4.0 o más en el CVSS, realizar rescans cuando sea necesario, y tener un método de penetration testing definido, documentado e implementado que incluye enfoques aceptados por la industria y cobertura para el perímetro del SDE y los sistemas críticos.                                                        |\n",
    "| llama-2-13b   | **What are the new requirements for vulnerability assessments in PCI DSS version 4.0?**                                                                                                                                                                                                                                                                                                                                                                                |\n",
    "|               | According to the provided document, there are several new requirements for vulnerability assessments in PCI DSS version 4.0. These include:                                                                                                                                                                                                                                                                                                                            |\n",
    "|               |                                                                                                                                                                                                                                                                                                                                                                                                                                                                        |\n",
    "|               | * Performing a targeted risk analysis to determine the frequency of log reviews for all other system components (10.4.2.1)                                                                                                                                                                                                                                                                                                                                             |\n",
    "|               | * Detecting, alerting, and addressing failures of critical security control systems promptly (10.7.2 and 10.7.3)                                                                                                                                                                                                                                                                                                                                                       |\n",
    "|               | * Documenting, assigning, and understanding roles and responsibilities for performing activities in Requirement 11 (11.1.2)                                                                                                                                                                                                                                                                                                                                            |\n",
    "|               | * Managing all other applicable vulnerabilities (not ranked as high-risk or critical) (11.3.1.1)                                                                                                                                                                                                                                                                                                                                                                       |\n",
    "|               | * Performing internal vulnerability scans via authenticated scanning (11.3.1.2)                                                                                                                                                                                                                                                                                                                                                                                        |\n",
    "|               | * Supporting multi-tenant services (11.4.7)                                                                                                                                                                                                                                                                                                                                                                                                                            |\n",
    "|               | * Implementing processes or mechanisms for reporting and addressing suspected or confirmed security incidents and vulnerabilities (A1.2.3)                                                                                                                                                                                                                                                                                                                             |\n",
    "|               | * Detecting, alerting, and reporting failures of automated log review mechanisms and automated code review tools in a timely manner (A3.3.1)                                                                                                                                                                                                                                                                                                                           |\n",
    "| gpt-3.5-turbo | **What are the new requirements for vulnerability assessments in PCI DSS version 4.0?**                                                                                                                                                                                                                                                                                                                                                                                |\n",
    "|               | In PCI DSS version 4.0, there are several new requirements for vulnerability assessments. Here are the new requirements:                                                                                                                                                                                                                                                                                                                                               |\n",
    "|               |                                                                                                                                                                                                                                                                                                                                                                                                                                                                        |\n",
    "|               | - Requirement 11.3.1.1: Manage all other applicable vulnerabilities (those not ranked as high-risk or critical).                                                                                                                                                                                                                                                                                                                                                       |\n",
    "|               | - Requirement 11.3.1.2: Internal vulnerability scans are performed via authenticated scanning.                                                                                                                                                                                                                                                                                                                                                                         |\n",
    "|               | - Requirement A3.3.1: Failures of automated log review mechanisms and automated code review tools are detected, alerted, and reported in a timely manner.                                                                                                                                                                                                                                                                                                              |\n",
    "|               |                                                                                                                                                                                                                                                                                                                                                                                                                                                                        |\n",
    "|               | These new requirements are applicable to all entities and service providers and are effective immediately for all v4.0 assessments.                                                                                                                                                                                                                                                                                                                                    |\n",
    "| gpt-4         | **What are the new requirements for vulnerability assessments in the PCI DSS?**                                                                                                                                                                                                                                                                                                                                                                                        |\n",
    "|               | The new requirements for vulnerability assessments in the PCI DSS v4.0 as compared to v3.2.1 are:                                                                                                                                                                                                                                                                                                                                                                      |\n",
    "|               |                                                                                                                                                                                                                                                                                                                                                                                                                                                                        |\n",
    "|               | 1. Requirement 10.4.2.1: A targeted risk analysis is performed to determine the frequency of log reviews for all other system components.                                                                                                                                                                                                                                                                                                                              |\n",
    "|               |                                                                                                                                                                                                                                                                                                                                                                                                                                                                        |\n",
    "|               | 2. Requirement 11.3.1.1: Manage all other applicable vulnerabilities (those not ranked as high-risk or critical).                                                                                                                                                                                                                                                                                                                                                      |\n",
    "|               |                                                                                                                                                                                                                                                                                                                                                                                                                                                                        |\n",
    "|               | 3. Requirement 11.3.1.2: Internal vulnerability scans are performed via authenticated scanning.                                                                                                                                                                                                                                                                                                                                                                        |\n",
    "|               |                                                                                                                                                                                                                                                                                                                                                                                                                                                                        |\n",
    "|               | 4. Requirement A1.2.3: The multi-tenant service provider implements processes or mechanisms for reporting and addressing suspected or confirmed security incidents and vulnerabilities.                                                                                                                                                                                                                                                                                |\n",
    "|               |                                                                                                                                                                                                                                                                                                                                                                                                                                                                        |\n",
    "|               | 5. Requirement A3.3.1: Failures of the following are detected, alerted, and reported in a timely manner: Automated log review mechanisms and Automated code review tools.                                                                                                                                                                                                                                                                                              |\n"
   ]
  },
  {
   "cell_type": "code",
   "execution_count": 20,
   "metadata": {},
   "outputs": [
    {
     "name": "stdout",
     "output_type": "stream",
     "text": [
      "### more on penetration testing\n",
      "\n",
      "| Model Name    | LLM Generated Content                                                                                                                                                                                                                                                                                                                                                                                                                                                                                                                                                                                                                                                                                                                                                                               |\n",
      "|:--------------|:----------------------------------------------------------------------------------------------------------------------------------------------------------------------------------------------------------------------------------------------------------------------------------------------------------------------------------------------------------------------------------------------------------------------------------------------------------------------------------------------------------------------------------------------------------------------------------------------------------------------------------------------------------------------------------------------------------------------------------------------------------------------------------------------------|\n",
      "| orca-2-7b     | **What are some best practices for conducting effective penetration tests?**                                                                                                                                                                                                                                                                                                                                                                                                                                                                                                                                                                                                                                                                                                                        |\n",
      "|               | Some best practices for conducting effective penetration tests include performing the testing according to a defined methodology, ensuring the tester has organizational independence, validating segmentation and scope reduction controls, testing both inside and outside the network, considering the latest threats and vulnerabilities, and documenting the approach to addressing risks identified during the testing.                                                                                                                                                                                                                                                                                                                                                                       |\n",
      "| llama-2-7b    | **Could you explain what penetration testing entails in the context of PCI DSS compliance?**                                                                                                                                                                                                                                                                                                                                                                                                                                                                                                                                                                                                                                                                                                        |\n",
      "|               | Sure! Penetration testing is a crucial component of PCI DSS compliance, which involves simulating cyber attacks against an organization's computer systems and networks to identify vulnerabilities and weaknesses. The goal of penetration testing is to help organizations strengthen their defenses against attackers who might exploit these vulnerabilities to gain unauthorized access to sensitive data.                                                                                                                                                                                                                                                                                                                                                                                     |\n",
      "|               |                                                                                                                                                                                                                                                                                                                                                                                                                                                                                                                                                                                                                                                                                                                                                                                                     |\n",
      "|               | The PCI DSS requires organizations to conduct regular penetration testing to ensure that their systems and networks are secure and protected against potential threats. This includes testing the perimeter of the cardholder data environment (CDE), critical systems, and application layers to identify any vulnerabilities that could be exploited by attackers.                                                                                                                                                                                                                                                                                                                                                                                                                                |\n",
      "|               |                                                                                                                                                                                                                                                                                                                                                                                                                                                                                                                                                                                                                                                                                                                                                                                                     |\n",
      "|               | There are several key aspects of penetration testing that organizations should be aware of when implementing PCI DSS compliance:                                                                                                                                                                                                                                                                                                                                                                                                                                                                                                                                                                                                                                                                    |\n",
      "|               |                                                                                                                                                                                                                                                                                                                                                                                                                                                                                                                                                                                                                                                                                                                                                                                                     |\n",
      "|               | 1. Defining a penetration testing methodology: Organizations must define a comprehensive approach to penetration testing that includes industry- accepted techniques and best practices.                                                                                                                                                                                                                                                                                                                                                                                                                                                                                                                                                                                                            |\n",
      "|               | 2. Coverage of the entire CDE perimeter and critical systems: Penetration testing should cover the entire perimeter of the CDE, including firewalls, routers, switches, and other network devices, as well as critical systems such as databases, servers, and applications.                                                                                                                                                                                                                                                                                                                                                                                                                                                                                                                        |\n",
      "|               | 3. Testing from both inside and outside the network: Penetration testing should involve testing from both inside and outside the network to simulate real-world attacks and identify vulnerabilities that may not be visible from within the network.                                                                                                                                                                                                                                                                                                                                                                                                                                                                                                                                               |\n",
      "|               | 4. Validating segmentation and scope-reduction controls: Penetration testing should also validate the effectiveness of segmentation and scope-reduction controls to prevent unauthorized access to sensitive data.                                                                                                                                                                                                                                                                                                                                                                                                                                                                                                                                                                                  |\n",
      "|               | 5. Identifying vulnerabilities in application layers: Penetration testing should include testing of application layers to identify any vulnerabilities that could be exploited by attackers.                                                                                                                                                                                                                                                                                                                                                                                                                                                                                                                                                                                                        |\n",
      "|               | 6. Correction of identified vulnerabilities: Once vulnerabilities are identified through penetration testing, they must be corrected promptly to minimize the risk of attack.                                                                                                                                                                                                                                                                                                                                                                                                                                                                                                                                                                                                                       |\n",
      "|               |                                                                                                                                                                                                                                                                                                                                                                                                                                                                                                                                                                                                                                                                                                                                                                                                     |\n",
      "|               | By understanding the importance of penetration testing in PCI DSS compliance, organizations can take proactive steps to protect their systems and networks from cyber threats and maintain the trust of their customers and stakeholders.                                                                                                                                                                                                                                                                                                                                                                                                                                                                                                                                                           |\n",
      "| orca-2-13b    | **¿Puedes dar más detalles sobre las prácticas de prueba de penetración en PCI DSS?**                                                                                                                                                                                                                                                                                                                                                                                                                                                                                                                                                                                                                                                                                                               |\n",
      "|               | Sí, puedo dar más detalles sobre las prácticas de prueba de penetración en PCI DSS. La PCI DSS requiere que se realice un penetration testing externo al menos una vez cada 12 meses y después de cualquier modificación o cambio significativo en la infraestructura o el software. El penetration testing debe ser realizado por un recurso interno calificado o un tercero de fuera de la organización calificado y debe cumplir con la metodología definida por la entidad. Además, las vulnerabilidades y debilidades de seguridad que se encuentren durante el penetration testing deben ser corregidas y verificadas mediante la repetición del testing.                                                                                                                                     |\n",
      "| llama-2-13b   | **What are the new requirements for penetration testing in PCI DSS version 4.0?**                                                                                                                                                                                                                                                                                                                                                                                                                                                                                                                                                                                                                                                                                                                   |\n",
      "|               | Based on the provided information, there are two new requirements for penetration testing in PCI DSS version 4.0. Firstly, the penetration testing methodology must include industry-accepted penetration testing approaches, coverage for the entire CDE perimeter, and testing from both inside and outside the network. Secondly, the assessment must examine the scope of work and results from the most recent external penetration test to ensure that penetration testing is performed according to all elements specified in this requirement. Additionally, the assessor must interview personnel to verify that the external penetration test was performed by a qualified internal resource or qualified external third-party and that organizational independence of the tester exists. |\n",
      "| gpt-3.5-turbo | **Can you provide more information about the changes related to penetration testing in PCI DSS version 4.0?**                                                                                                                                                                                                                                                                                                                                                                                                                                                                                                                                                                                                                                                                                       |\n",
      "|               | I'm sorry, but I don't have access to the specific changes related to penetration testing in PCI DSS version 4.0. The information provided does not include details about the changes made to penetration testing requirements. It is recommended to review the PCI DSS version 4.0 document in its entirety to understand the changes related to penetration testing.                                                                                                                                                                                                                                                                                                                                                                                                                              |\n",
      "| gpt-4         | **Can you provide more information on penetration testing in the context of PCI DSS?**                                                                                                                                                                                                                                                                                                                                                                                                                                                                                                                                                                                                                                                                                                              |\n",
      "|               | Penetration testing in the context of PCI DSS (Payment Card Industry Data Security Standard) is a requirement for entities that handle cardholder data. According to the PCI DSS v4.0 ROC Template, Requirement 11.4 states that external and internal penetration testing must be regularly performed, and any exploitable vulnerabilities and security weaknesses identified must be corrected.                                                                                                                                                                                                                                                                                                                                                                                                   |\n",
      "|               |                                                                                                                                                                                                                                                                                                                                                                                                                                                                                                                                                                                                                                                                                                                                                                                                     |\n",
      "|               | The penetration testing methodology should be defined, documented, and implemented by the entity. It should include industry-accepted penetration testing approaches and cover the entire Cardholder Data Environment (CDE) perimeter and critical systems. The testing should be conducted from both inside and outside the network.                                                                                                                                                                                                                                                                                                                                                                                                                                                               |\n",
      "|               |                                                                                                                                                                                                                                                                                                                                                                                                                                                                                                                                                                                                                                                                                                                                                                                                     |\n",
      "|               | The testing should also validate any segmentation and scope-reduction controls. It should include application-layer penetration testing to identify, at a minimum, the vulnerabilities listed in Requirement 6.2.4. Network-layer penetration tests should encompass all components that support network functions as well as operating systems.                                                                                                                                                                                                                                                                                                                                                                                                                                                    |\n",
      "|               |                                                                                                                                                                                                                                                                                                                                                                                                                                                                                                                                                                                                                                                                                                                                                                                                     |\n",
      "|               | If exploitable vulnerabilities and security weaknesses are found during penetration testing, they should be corrected in accordance with the entity's assessment of the risk posed by the security issue as defined in Requirement 6.3.1. The penetration testing should then be repeated to verify the corrections.                                                                                                                                                                                                                                                                                                                                                                                                                                                                                |\n",
      "|               |                                                                                                                                                                                                                                                                                                                                                                                                                                                                                                                                                                                                                                                                                                                                                                                                     |\n",
      "|               | The external penetration test should be performed by a qualified internal resource or a qualified external third-party, ensuring that organizational independence of the tester exists.                                                                                                                                                                                                                                                                                                                                                                                                                                                                                                                                                                                                             |\n"
     ]
    }
   ],
   "source": [
    "print_conversation(3)"
   ]
  },
  {
   "cell_type": "markdown",
   "metadata": {},
   "source": [
    "### more on penetration testing\n",
    "\n",
    "| Model Name    | LLM Generated Content                                                                                                                                                                                                                                                                                                                                                                                                                                                                                                                                                                                                                                                                                                                                                                               |\n",
    "|:--------------|:----------------------------------------------------------------------------------------------------------------------------------------------------------------------------------------------------------------------------------------------------------------------------------------------------------------------------------------------------------------------------------------------------------------------------------------------------------------------------------------------------------------------------------------------------------------------------------------------------------------------------------------------------------------------------------------------------------------------------------------------------------------------------------------------------|\n",
    "| orca-2-7b     | **What are some best practices for conducting effective penetration tests?**                                                                                                                                                                                                                                                                                                                                                                                                                                                                                                                                                                                                                                                                                                                        |\n",
    "|               | Some best practices for conducting effective penetration tests include performing the testing according to a defined methodology, ensuring the tester has organizational independence, validating segmentation and scope reduction controls, testing both inside and outside the network, considering the latest threats and vulnerabilities, and documenting the approach to addressing risks identified during the testing.                                                                                                                                                                                                                                                                                                                                                                       |\n",
    "| llama-2-7b    | **Could you explain what penetration testing entails in the context of PCI DSS compliance?**                                                                                                                                                                                                                                                                                                                                                                                                                                                                                                                                                                                                                                                                                                        |\n",
    "|               | Sure! Penetration testing is a crucial component of PCI DSS compliance, which involves simulating cyber attacks against an organization's computer systems and networks to identify vulnerabilities and weaknesses. The goal of penetration testing is to help organizations strengthen their defenses against attackers who might exploit these vulnerabilities to gain unauthorized access to sensitive data.                                                                                                                                                                                                                                                                                                                                                                                     |\n",
    "|               |                                                                                                                                                                                                                                                                                                                                                                                                                                                                                                                                                                                                                                                                                                                                                                                                     |\n",
    "|               | The PCI DSS requires organizations to conduct regular penetration testing to ensure that their systems and networks are secure and protected against potential threats. This includes testing the perimeter of the cardholder data environment (CDE), critical systems, and application layers to identify any vulnerabilities that could be exploited by attackers.                                                                                                                                                                                                                                                                                                                                                                                                                                |\n",
    "|               |                                                                                                                                                                                                                                                                                                                                                                                                                                                                                                                                                                                                                                                                                                                                                                                                     |\n",
    "|               | There are several key aspects of penetration testing that organizations should be aware of when implementing PCI DSS compliance:                                                                                                                                                                                                                                                                                                                                                                                                                                                                                                                                                                                                                                                                    |\n",
    "|               |                                                                                                                                                                                                                                                                                                                                                                                                                                                                                                                                                                                                                                                                                                                                                                                                     |\n",
    "|               | 1. Defining a penetration testing methodology: Organizations must define a comprehensive approach to penetration testing that includes industry- accepted techniques and best practices.                                                                                                                                                                                                                                                                                                                                                                                                                                                                                                                                                                                                            |\n",
    "|               | 2. Coverage of the entire CDE perimeter and critical systems: Penetration testing should cover the entire perimeter of the CDE, including firewalls, routers, switches, and other network devices, as well as critical systems such as databases, servers, and applications.                                                                                                                                                                                                                                                                                                                                                                                                                                                                                                                        |\n",
    "|               | 3. Testing from both inside and outside the network: Penetration testing should involve testing from both inside and outside the network to simulate real-world attacks and identify vulnerabilities that may not be visible from within the network.                                                                                                                                                                                                                                                                                                                                                                                                                                                                                                                                               |\n",
    "|               | 4. Validating segmentation and scope-reduction controls: Penetration testing should also validate the effectiveness of segmentation and scope-reduction controls to prevent unauthorized access to sensitive data.                                                                                                                                                                                                                                                                                                                                                                                                                                                                                                                                                                                  |\n",
    "|               | 5. Identifying vulnerabilities in application layers: Penetration testing should include testing of application layers to identify any vulnerabilities that could be exploited by attackers.                                                                                                                                                                                                                                                                                                                                                                                                                                                                                                                                                                                                        |\n",
    "|               | 6. Correction of identified vulnerabilities: Once vulnerabilities are identified through penetration testing, they must be corrected promptly to minimize the risk of attack.                                                                                                                                                                                                                                                                                                                                                                                                                                                                                                                                                                                                                       |\n",
    "|               |                                                                                                                                                                                                                                                                                                                                                                                                                                                                                                                                                                                                                                                                                                                                                                                                     |\n",
    "|               | By understanding the importance of penetration testing in PCI DSS compliance, organizations can take proactive steps to protect their systems and networks from cyber threats and maintain the trust of their customers and stakeholders.                                                                                                                                                                                                                                                                                                                                                                                                                                                                                                                                                           |\n",
    "| orca-2-13b    | **¿Puedes dar más detalles sobre las prácticas de prueba de penetración en PCI DSS?**                                                                                                                                                                                                                                                                                                                                                                                                                                                                                                                                                                                                                                                                                                               |\n",
    "|               | Sí, puedo dar más detalles sobre las prácticas de prueba de penetración en PCI DSS. La PCI DSS requiere que se realice un penetration testing externo al menos una vez cada 12 meses y después de cualquier modificación o cambio significativo en la infraestructura o el software. El penetration testing debe ser realizado por un recurso interno calificado o un tercero de fuera de la organización calificado y debe cumplir con la metodología definida por la entidad. Además, las vulnerabilidades y debilidades de seguridad que se encuentren durante el penetration testing deben ser corregidas y verificadas mediante la repetición del testing.                                                                                                                                     |\n",
    "| llama-2-13b   | **What are the new requirements for penetration testing in PCI DSS version 4.0?**                                                                                                                                                                                                                                                                                                                                                                                                                                                                                                                                                                                                                                                                                                                   |\n",
    "|               | Based on the provided information, there are two new requirements for penetration testing in PCI DSS version 4.0. Firstly, the penetration testing methodology must include industry-accepted penetration testing approaches, coverage for the entire CDE perimeter, and testing from both inside and outside the network. Secondly, the assessment must examine the scope of work and results from the most recent external penetration test to ensure that penetration testing is performed according to all elements specified in this requirement. Additionally, the assessor must interview personnel to verify that the external penetration test was performed by a qualified internal resource or qualified external third-party and that organizational independence of the tester exists. |\n",
    "| gpt-3.5-turbo | **Can you provide more information about the changes related to penetration testing in PCI DSS version 4.0?**                                                                                                                                                                                                                                                                                                                                                                                                                                                                                                                                                                                                                                                                                       |\n",
    "|               | I'm sorry, but I don't have access to the specific changes related to penetration testing in PCI DSS version 4.0. The information provided does not include details about the changes made to penetration testing requirements. It is recommended to review the PCI DSS version 4.0 document in its entirety to understand the changes related to penetration testing.                                                                                                                                                                                                                                                                                                                                                                                                                              |\n",
    "| gpt-4         | **Can you provide more information on penetration testing in the context of PCI DSS?**                                                                                                                                                                                                                                                                                                                                                                                                                                                                                                                                                                                                                                                                                                              |\n",
    "|               | Penetration testing in the context of PCI DSS (Payment Card Industry Data Security Standard) is a requirement for entities that handle cardholder data. According to the PCI DSS v4.0 ROC Template, Requirement 11.4 states that external and internal penetration testing must be regularly performed, and any exploitable vulnerabilities and security weaknesses identified must be corrected.                                                                                                                                                                                                                                                                                                                                                                                                   |\n",
    "|               |                                                                                                                                                                                                                                                                                                                                                                                                                                                                                                                                                                                                                                                                                                                                                                                                     |\n",
    "|               | The penetration testing methodology should be defined, documented, and implemented by the entity. It should include industry-accepted penetration testing approaches and cover the entire Cardholder Data Environment (CDE) perimeter and critical systems. The testing should be conducted from both inside and outside the network.                                                                                                                                                                                                                                                                                                                                                                                                                                                               |\n",
    "|               |                                                                                                                                                                                                                                                                                                                                                                                                                                                                                                                                                                                                                                                                                                                                                                                                     |\n",
    "|               | The testing should also validate any segmentation and scope-reduction controls. It should include application-layer penetration testing to identify, at a minimum, the vulnerabilities listed in Requirement 6.2.4. Network-layer penetration tests should encompass all components that support network functions as well as operating systems.                                                                                                                                                                                                                                                                                                                                                                                                                                                    |\n",
    "|               |                                                                                                                                                                                                                                                                                                                                                                                                                                                                                                                                                                                                                                                                                                                                                                                                     |\n",
    "|               | If exploitable vulnerabilities and security weaknesses are found during penetration testing, they should be corrected in accordance with the entity's assessment of the risk posed by the security issue as defined in Requirement 6.3.1. The penetration testing should then be repeated to verify the corrections.                                                                                                                                                                                                                                                                                                                                                                                                                                                                                |\n",
    "|               |                                                                                                                                                                                                                                                                                                                                                                                                                                                                                                                                                                                                                                                                                                                                                                                                     |\n",
    "|               | The external penetration test should be performed by a qualified internal resource or a qualified external third-party, ensuring that organizational independence of the tester exists.                                                                                                                                                                                                                                                                                                                                                                                                                                                                                                                                                                                                             |\n"
   ]
  },
  {
   "cell_type": "markdown",
   "metadata": {},
   "source": [
    "## Results from Nvidia GeForce RTX 4080"
   ]
  },
  {
   "cell_type": "code",
   "execution_count": 21,
   "metadata": {},
   "outputs": [
    {
     "data": {
      "text/html": [
       "<div>\n",
       "<style scoped>\n",
       "    .dataframe tbody tr th:only-of-type {\n",
       "        vertical-align: middle;\n",
       "    }\n",
       "\n",
       "    .dataframe tbody tr th {\n",
       "        vertical-align: top;\n",
       "    }\n",
       "\n",
       "    .dataframe thead th {\n",
       "        text-align: right;\n",
       "    }\n",
       "</style>\n",
       "<table border=\"1\" class=\"dataframe\">\n",
       "  <thead>\n",
       "    <tr style=\"text-align: right;\">\n",
       "      <th></th>\n",
       "      <th>model_name</th>\n",
       "      <th>repetition_penalty</th>\n",
       "      <th>faithfulness</th>\n",
       "      <th>answer_relevancy</th>\n",
       "      <th>overall_score</th>\n",
       "      <th>total_time_used</th>\n",
       "      <th>num_tokens_generated</th>\n",
       "      <th>token_per_second</th>\n",
       "    </tr>\n",
       "  </thead>\n",
       "  <tbody>\n",
       "    <tr>\n",
       "      <th>0</th>\n",
       "      <td>llama-2-7b</td>\n",
       "      <td>1.05</td>\n",
       "      <td>1.000000</td>\n",
       "      <td>0.731964</td>\n",
       "      <td>0.845241</td>\n",
       "      <td>1234.418</td>\n",
       "      <td>2457</td>\n",
       "      <td>1.990</td>\n",
       "    </tr>\n",
       "    <tr>\n",
       "      <th>1</th>\n",
       "      <td>llama-2-7b</td>\n",
       "      <td>1.10</td>\n",
       "      <td>0.750000</td>\n",
       "      <td>0.722392</td>\n",
       "      <td>0.735937</td>\n",
       "      <td>272.474</td>\n",
       "      <td>623</td>\n",
       "      <td>2.286</td>\n",
       "    </tr>\n",
       "    <tr>\n",
       "      <th>2</th>\n",
       "      <td>llama-2-7b</td>\n",
       "      <td>1.15</td>\n",
       "      <td>0.755556</td>\n",
       "      <td>0.968164</td>\n",
       "      <td>0.848748</td>\n",
       "      <td>319.531</td>\n",
       "      <td>792</td>\n",
       "      <td>2.479</td>\n",
       "    </tr>\n",
       "    <tr>\n",
       "      <th>3</th>\n",
       "      <td>orca-2-7b</td>\n",
       "      <td>1.05</td>\n",
       "      <td>0.830357</td>\n",
       "      <td>0.978326</td>\n",
       "      <td>0.898289</td>\n",
       "      <td>254.981</td>\n",
       "      <td>536</td>\n",
       "      <td>2.102</td>\n",
       "    </tr>\n",
       "    <tr>\n",
       "      <th>4</th>\n",
       "      <td>orca-2-7b</td>\n",
       "      <td>1.10</td>\n",
       "      <td>1.000000</td>\n",
       "      <td>0.971117</td>\n",
       "      <td>0.985347</td>\n",
       "      <td>273.518</td>\n",
       "      <td>549</td>\n",
       "      <td>2.007</td>\n",
       "    </tr>\n",
       "    <tr>\n",
       "      <th>5</th>\n",
       "      <td>orca-2-7b</td>\n",
       "      <td>1.15</td>\n",
       "      <td>0.866667</td>\n",
       "      <td>0.963659</td>\n",
       "      <td>0.912593</td>\n",
       "      <td>214.116</td>\n",
       "      <td>432</td>\n",
       "      <td>2.018</td>\n",
       "    </tr>\n",
       "    <tr>\n",
       "      <th>6</th>\n",
       "      <td>orca-2-7b_tgi</td>\n",
       "      <td>1.05</td>\n",
       "      <td>1.000000</td>\n",
       "      <td>0.967557</td>\n",
       "      <td>0.983511</td>\n",
       "      <td>330.008</td>\n",
       "      <td>587</td>\n",
       "      <td>1.779</td>\n",
       "    </tr>\n",
       "    <tr>\n",
       "      <th>7</th>\n",
       "      <td>orca-2-7b_tgi</td>\n",
       "      <td>1.10</td>\n",
       "      <td>0.858333</td>\n",
       "      <td>0.955750</td>\n",
       "      <td>0.904426</td>\n",
       "      <td>304.184</td>\n",
       "      <td>502</td>\n",
       "      <td>1.650</td>\n",
       "    </tr>\n",
       "    <tr>\n",
       "      <th>8</th>\n",
       "      <td>orca-2-7b_tgi</td>\n",
       "      <td>1.15</td>\n",
       "      <td>0.750000</td>\n",
       "      <td>0.714001</td>\n",
       "      <td>0.731558</td>\n",
       "      <td>203.892</td>\n",
       "      <td>339</td>\n",
       "      <td>1.663</td>\n",
       "    </tr>\n",
       "    <tr>\n",
       "      <th>9</th>\n",
       "      <td>orca-2-13b_tgi</td>\n",
       "      <td>1.05</td>\n",
       "      <td>0.950000</td>\n",
       "      <td>0.963749</td>\n",
       "      <td>0.956825</td>\n",
       "      <td>30.847</td>\n",
       "      <td>455</td>\n",
       "      <td>14.750</td>\n",
       "    </tr>\n",
       "    <tr>\n",
       "      <th>10</th>\n",
       "      <td>orca-2-13b_tgi</td>\n",
       "      <td>1.10</td>\n",
       "      <td>0.750000</td>\n",
       "      <td>0.946751</td>\n",
       "      <td>0.836968</td>\n",
       "      <td>24.490</td>\n",
       "      <td>348</td>\n",
       "      <td>14.210</td>\n",
       "    </tr>\n",
       "    <tr>\n",
       "      <th>11</th>\n",
       "      <td>orca-2-13b_tgi</td>\n",
       "      <td>1.15</td>\n",
       "      <td>1.000000</td>\n",
       "      <td>0.938756</td>\n",
       "      <td>0.968411</td>\n",
       "      <td>42.575</td>\n",
       "      <td>649</td>\n",
       "      <td>15.244</td>\n",
       "    </tr>\n",
       "  </tbody>\n",
       "</table>\n",
       "</div>"
      ],
      "text/plain": [
       "        model_name  repetition_penalty  faithfulness  answer_relevancy  \\\n",
       "0       llama-2-7b                1.05      1.000000          0.731964   \n",
       "1       llama-2-7b                1.10      0.750000          0.722392   \n",
       "2       llama-2-7b                1.15      0.755556          0.968164   \n",
       "3        orca-2-7b                1.05      0.830357          0.978326   \n",
       "4        orca-2-7b                1.10      1.000000          0.971117   \n",
       "5        orca-2-7b                1.15      0.866667          0.963659   \n",
       "6    orca-2-7b_tgi                1.05      1.000000          0.967557   \n",
       "7    orca-2-7b_tgi                1.10      0.858333          0.955750   \n",
       "8    orca-2-7b_tgi                1.15      0.750000          0.714001   \n",
       "9   orca-2-13b_tgi                1.05      0.950000          0.963749   \n",
       "10  orca-2-13b_tgi                1.10      0.750000          0.946751   \n",
       "11  orca-2-13b_tgi                1.15      1.000000          0.938756   \n",
       "\n",
       "    overall_score  total_time_used  num_tokens_generated  token_per_second  \n",
       "0        0.845241         1234.418                  2457             1.990  \n",
       "1        0.735937          272.474                   623             2.286  \n",
       "2        0.848748          319.531                   792             2.479  \n",
       "3        0.898289          254.981                   536             2.102  \n",
       "4        0.985347          273.518                   549             2.007  \n",
       "5        0.912593          214.116                   432             2.018  \n",
       "6        0.983511          330.008                   587             1.779  \n",
       "7        0.904426          304.184                   502             1.650  \n",
       "8        0.731558          203.892                   339             1.663  \n",
       "9        0.956825           30.847                   455            14.750  \n",
       "10       0.836968           24.490                   348            14.210  \n",
       "11       0.968411           42.575                   649            15.244  "
      ]
     },
     "execution_count": 21,
     "metadata": {},
     "output_type": "execute_result"
    }
   ],
   "source": [
    "perf_pd2 = pd.read_excel(\"./results/perf_data_nvidia_4080.xlsx\")\n",
    "perf_pd2"
   ]
  },
  {
   "cell_type": "code",
   "execution_count": 22,
   "metadata": {},
   "outputs": [
    {
     "data": {
      "text/html": [
       "<div>\n",
       "<style scoped>\n",
       "    .dataframe tbody tr th:only-of-type {\n",
       "        vertical-align: middle;\n",
       "    }\n",
       "\n",
       "    .dataframe tbody tr th {\n",
       "        vertical-align: top;\n",
       "    }\n",
       "\n",
       "    .dataframe thead th {\n",
       "        text-align: right;\n",
       "    }\n",
       "</style>\n",
       "<table border=\"1\" class=\"dataframe\">\n",
       "  <thead>\n",
       "    <tr style=\"text-align: right;\">\n",
       "      <th></th>\n",
       "      <th>model_name</th>\n",
       "      <th>repetition_penalty</th>\n",
       "      <th>faithfulness</th>\n",
       "      <th>answer_relevancy</th>\n",
       "      <th>overall_score</th>\n",
       "      <th>total_time_used</th>\n",
       "      <th>num_tokens_generated</th>\n",
       "      <th>token_per_second</th>\n",
       "    </tr>\n",
       "  </thead>\n",
       "  <tbody>\n",
       "    <tr>\n",
       "      <th>0</th>\n",
       "      <td>llama-2-7b</td>\n",
       "      <td>1.05</td>\n",
       "      <td>1.000000</td>\n",
       "      <td>0.731964</td>\n",
       "      <td>0.845241</td>\n",
       "      <td>1234.418</td>\n",
       "      <td>2457</td>\n",
       "      <td>1.990</td>\n",
       "    </tr>\n",
       "    <tr>\n",
       "      <th>1</th>\n",
       "      <td>llama-2-7b</td>\n",
       "      <td>1.10</td>\n",
       "      <td>0.750000</td>\n",
       "      <td>0.722392</td>\n",
       "      <td>0.735937</td>\n",
       "      <td>272.474</td>\n",
       "      <td>623</td>\n",
       "      <td>2.286</td>\n",
       "    </tr>\n",
       "    <tr>\n",
       "      <th>2</th>\n",
       "      <td>llama-2-7b</td>\n",
       "      <td>1.15</td>\n",
       "      <td>0.755556</td>\n",
       "      <td>0.968164</td>\n",
       "      <td>0.848748</td>\n",
       "      <td>319.531</td>\n",
       "      <td>792</td>\n",
       "      <td>2.479</td>\n",
       "    </tr>\n",
       "    <tr>\n",
       "      <th>3</th>\n",
       "      <td>orca-2-7b</td>\n",
       "      <td>1.05</td>\n",
       "      <td>0.830357</td>\n",
       "      <td>0.978326</td>\n",
       "      <td>0.898289</td>\n",
       "      <td>254.981</td>\n",
       "      <td>536</td>\n",
       "      <td>2.102</td>\n",
       "    </tr>\n",
       "    <tr>\n",
       "      <th>4</th>\n",
       "      <td>orca-2-7b</td>\n",
       "      <td>1.10</td>\n",
       "      <td>1.000000</td>\n",
       "      <td>0.971117</td>\n",
       "      <td>0.985347</td>\n",
       "      <td>273.518</td>\n",
       "      <td>549</td>\n",
       "      <td>2.007</td>\n",
       "    </tr>\n",
       "    <tr>\n",
       "      <th>5</th>\n",
       "      <td>orca-2-7b</td>\n",
       "      <td>1.15</td>\n",
       "      <td>0.866667</td>\n",
       "      <td>0.963659</td>\n",
       "      <td>0.912593</td>\n",
       "      <td>214.116</td>\n",
       "      <td>432</td>\n",
       "      <td>2.018</td>\n",
       "    </tr>\n",
       "  </tbody>\n",
       "</table>\n",
       "</div>"
      ],
      "text/plain": [
       "   model_name  repetition_penalty  faithfulness  answer_relevancy  \\\n",
       "0  llama-2-7b                1.05      1.000000          0.731964   \n",
       "1  llama-2-7b                1.10      0.750000          0.722392   \n",
       "2  llama-2-7b                1.15      0.755556          0.968164   \n",
       "3   orca-2-7b                1.05      0.830357          0.978326   \n",
       "4   orca-2-7b                1.10      1.000000          0.971117   \n",
       "5   orca-2-7b                1.15      0.866667          0.963659   \n",
       "\n",
       "   overall_score  total_time_used  num_tokens_generated  token_per_second  \n",
       "0       0.845241         1234.418                  2457             1.990  \n",
       "1       0.735937          272.474                   623             2.286  \n",
       "2       0.848748          319.531                   792             2.479  \n",
       "3       0.898289          254.981                   536             2.102  \n",
       "4       0.985347          273.518                   549             2.007  \n",
       "5       0.912593          214.116                   432             2.018  "
      ]
     },
     "execution_count": 22,
     "metadata": {},
     "output_type": "execute_result"
    }
   ],
   "source": [
    "perf_pd2 = perf_pd2[:6]\n",
    "perf_pd2"
   ]
  },
  {
   "cell_type": "code",
   "execution_count": 23,
   "metadata": {},
   "outputs": [
    {
     "data": {
      "text/html": [
       "<div>\n",
       "<style scoped>\n",
       "    .dataframe tbody tr th:only-of-type {\n",
       "        vertical-align: middle;\n",
       "    }\n",
       "\n",
       "    .dataframe tbody tr th {\n",
       "        vertical-align: top;\n",
       "    }\n",
       "\n",
       "    .dataframe thead th {\n",
       "        text-align: right;\n",
       "    }\n",
       "</style>\n",
       "<table border=\"1\" class=\"dataframe\">\n",
       "  <thead>\n",
       "    <tr style=\"text-align: right;\">\n",
       "      <th></th>\n",
       "      <th>model_name</th>\n",
       "      <th>repetition_penalty</th>\n",
       "      <th>faithfulness</th>\n",
       "      <th>answer_relevancy</th>\n",
       "      <th>overall_score</th>\n",
       "      <th>total_time_used</th>\n",
       "      <th>num_tokens_generated</th>\n",
       "      <th>token_per_second</th>\n",
       "    </tr>\n",
       "  </thead>\n",
       "  <tbody>\n",
       "    <tr>\n",
       "      <th>4</th>\n",
       "      <td>orca-2-7b</td>\n",
       "      <td>1.10</td>\n",
       "      <td>1.000000</td>\n",
       "      <td>0.971117</td>\n",
       "      <td>0.985347</td>\n",
       "      <td>273.518</td>\n",
       "      <td>549</td>\n",
       "      <td>2.007</td>\n",
       "    </tr>\n",
       "    <tr>\n",
       "      <th>2</th>\n",
       "      <td>llama-2-7b</td>\n",
       "      <td>1.15</td>\n",
       "      <td>0.755556</td>\n",
       "      <td>0.968164</td>\n",
       "      <td>0.848748</td>\n",
       "      <td>319.531</td>\n",
       "      <td>792</td>\n",
       "      <td>2.479</td>\n",
       "    </tr>\n",
       "  </tbody>\n",
       "</table>\n",
       "</div>"
      ],
      "text/plain": [
       "   model_name  repetition_penalty  faithfulness  answer_relevancy  \\\n",
       "4   orca-2-7b                1.10      1.000000          0.971117   \n",
       "2  llama-2-7b                1.15      0.755556          0.968164   \n",
       "\n",
       "   overall_score  total_time_used  num_tokens_generated  token_per_second  \n",
       "4       0.985347          273.518                   549             2.007  \n",
       "2       0.848748          319.531                   792             2.479  "
      ]
     },
     "execution_count": 23,
     "metadata": {},
     "output_type": "execute_result"
    }
   ],
   "source": [
    "idx = perf_pd2.groupby(\"model_name\")[\"overall_score\"].idxmax()\n",
    "df2 = perf_pd2.loc[idx].sort_index(ascending=False)\n",
    "df2"
   ]
  },
  {
   "cell_type": "code",
   "execution_count": 24,
   "metadata": {},
   "outputs": [
    {
     "data": {
      "text/html": [
       "<div>\n",
       "<style scoped>\n",
       "    .dataframe tbody tr th:only-of-type {\n",
       "        vertical-align: middle;\n",
       "    }\n",
       "\n",
       "    .dataframe tbody tr th {\n",
       "        vertical-align: top;\n",
       "    }\n",
       "\n",
       "    .dataframe thead th {\n",
       "        text-align: right;\n",
       "    }\n",
       "</style>\n",
       "<table border=\"1\" class=\"dataframe\">\n",
       "  <thead>\n",
       "    <tr style=\"text-align: right;\">\n",
       "      <th></th>\n",
       "      <th>model_name</th>\n",
       "      <th>faithfulness</th>\n",
       "      <th>answer_relevancy</th>\n",
       "      <th>overall_score</th>\n",
       "    </tr>\n",
       "  </thead>\n",
       "  <tbody>\n",
       "    <tr>\n",
       "      <th>4</th>\n",
       "      <td>orca-2-7b</td>\n",
       "      <td>1.000000</td>\n",
       "      <td>0.971117</td>\n",
       "      <td>0.985347</td>\n",
       "    </tr>\n",
       "    <tr>\n",
       "      <th>2</th>\n",
       "      <td>llama-2-7b</td>\n",
       "      <td>0.755556</td>\n",
       "      <td>0.968164</td>\n",
       "      <td>0.848748</td>\n",
       "    </tr>\n",
       "  </tbody>\n",
       "</table>\n",
       "</div>"
      ],
      "text/plain": [
       "   model_name  faithfulness  answer_relevancy  overall_score\n",
       "4   orca-2-7b      1.000000          0.971117       0.985347\n",
       "2  llama-2-7b      0.755556          0.968164       0.848748"
      ]
     },
     "execution_count": 24,
     "metadata": {},
     "output_type": "execute_result"
    }
   ],
   "source": [
    "scores2 = df2.loc[\n",
    "    :, [\"model_name\", \"faithfulness\", \"answer_relevancy\", \"overall_score\"]\n",
    "]\n",
    "scores2"
   ]
  },
  {
   "cell_type": "code",
   "execution_count": 25,
   "metadata": {},
   "outputs": [
    {
     "data": {
      "text/plain": [
       "array([<Axes: title={'center': 'faithfulness'}>,\n",
       "       <Axes: title={'center': 'answer_relevancy'}>,\n",
       "       <Axes: title={'center': 'overall_score'}>], dtype=object)"
      ]
     },
     "execution_count": 25,
     "metadata": {},
     "output_type": "execute_result"
    },
    {
     "data": {
      "image/png": "[encoded data removed]",
      "text/plain": [
       "<Figure size 500x600 with 3 Axes>"
      ]
     },
     "metadata": {},
     "output_type": "display_data"
    }
   ],
   "source": [
    "scores2.plot.barh(\n",
    "    x=\"model_name\",\n",
    "    ylabel=\"\",\n",
    "    rot=0,\n",
    "    figsize=(5, 6),\n",
    "    subplots=True,\n",
    "    legend=False,\n",
    ")"
   ]
  },
  {
   "cell_type": "code",
   "execution_count": 26,
   "metadata": {},
   "outputs": [
    {
     "data": {
      "text/plain": [
       "<Axes: >"
      ]
     },
     "execution_count": 26,
     "metadata": {},
     "output_type": "execute_result"
    },
    {
     "data": {
      "image/png": "[encoded data removed]",
      "text/plain": [
       "<Figure size 500x200 with 1 Axes>"
      ]
     },
     "metadata": {},
     "output_type": "display_data"
    }
   ],
   "source": [
    "speed2 = df2.loc[:, [\"model_name\", \"token_per_second\"]]\n",
    "speed2.plot.barh(x=\"model_name\", ylabel=\"\", rot=0, figsize=(5, 2))"
   ]
  },
  {
   "cell_type": "code",
   "execution_count": 27,
   "metadata": {},
   "outputs": [
    {
     "name": "stdout",
     "output_type": "stream",
     "text": [
      "<class 'pandas.core.frame.DataFrame'>\n",
      "RangeIndex: 6 entries, 0 to 5\n",
      "Data columns (total 8 columns):\n",
      " #   Column                Non-Null Count  Dtype  \n",
      "---  ------                --------------  -----  \n",
      " 0   model_name            6 non-null      object \n",
      " 1   repetition_penalty    6 non-null      float64\n",
      " 2   faithfulness          6 non-null      float64\n",
      " 3   answer_relevancy      6 non-null      float64\n",
      " 4   overall_score         6 non-null      float64\n",
      " 5   total_time_used       6 non-null      float64\n",
      " 6   num_tokens_generated  6 non-null      int64  \n",
      " 7   token_per_second      6 non-null      float64\n",
      "dtypes: float64(6), int64(1), object(1)\n",
      "memory usage: 512.0+ bytes\n"
     ]
    }
   ],
   "source": [
    "perf_pd2.info()"
   ]
  },
  {
   "cell_type": "code",
   "execution_count": 28,
   "metadata": {},
   "outputs": [
    {
     "data": {
      "text/plain": [
       "<matplotlib.legend.Legend at 0x127ea5e20>"
      ]
     },
     "execution_count": 28,
     "metadata": {},
     "output_type": "execute_result"
    },
    {
     "data": {
      "image/png": "[encoded data removed]",
      "text/plain": [
       "<Figure size 500x400 with 1 Axes>"
      ]
     },
     "metadata": {},
     "output_type": "display_data"
    }
   ],
   "source": [
    "num_tokens_generated2 = perf_pd2.sort_index(ascending=False)\n",
    "num_tokens_generated2[\"model_name\"] = num_tokens_generated2.apply(\n",
    "    lambda x: x[\"model_name\"] + \" (\" + str(x[\"repetition_penalty\"]) + \")\", axis=1\n",
    ")\n",
    "num_tokens_generated2 = num_tokens_generated2.loc[\n",
    "    :, [\"model_name\", \"num_tokens_generated\"]\n",
    "]\n",
    "num_tokens_generated2.plot.barh(\n",
    "    x=\"model_name\", ylabel=\"\", rot=0, figsize=(5, 4)\n",
    ").legend(loc=\"best\")"
   ]
  },
  {
   "cell_type": "code",
   "execution_count": 29,
   "metadata": {},
   "outputs": [
    {
     "data": {
      "text/html": [
       "<div>\n",
       "<style scoped>\n",
       "    .dataframe tbody tr th:only-of-type {\n",
       "        vertical-align: middle;\n",
       "    }\n",
       "\n",
       "    .dataframe tbody tr th {\n",
       "        vertical-align: top;\n",
       "    }\n",
       "\n",
       "    .dataframe thead th {\n",
       "        text-align: right;\n",
       "    }\n",
       "</style>\n",
       "<table border=\"1\" class=\"dataframe\">\n",
       "  <thead>\n",
       "    <tr style=\"text-align: right;\">\n",
       "      <th></th>\n",
       "      <th>model_name</th>\n",
       "      <th>num_tokens_generated</th>\n",
       "    </tr>\n",
       "  </thead>\n",
       "  <tbody>\n",
       "    <tr>\n",
       "      <th>0</th>\n",
       "      <td>llama-2-7b (1.05)</td>\n",
       "      <td>2457</td>\n",
       "    </tr>\n",
       "    <tr>\n",
       "      <th>1</th>\n",
       "      <td>llama-2-7b (1.1)</td>\n",
       "      <td>623</td>\n",
       "    </tr>\n",
       "    <tr>\n",
       "      <th>2</th>\n",
       "      <td>llama-2-7b (1.15)</td>\n",
       "      <td>792</td>\n",
       "    </tr>\n",
       "    <tr>\n",
       "      <th>3</th>\n",
       "      <td>orca-2-7b (1.05)</td>\n",
       "      <td>536</td>\n",
       "    </tr>\n",
       "    <tr>\n",
       "      <th>4</th>\n",
       "      <td>orca-2-7b (1.1)</td>\n",
       "      <td>549</td>\n",
       "    </tr>\n",
       "    <tr>\n",
       "      <th>5</th>\n",
       "      <td>orca-2-7b (1.15)</td>\n",
       "      <td>432</td>\n",
       "    </tr>\n",
       "  </tbody>\n",
       "</table>\n",
       "</div>"
      ],
      "text/plain": [
       "          model_name  num_tokens_generated\n",
       "0  llama-2-7b (1.05)                  2457\n",
       "1   llama-2-7b (1.1)                   623\n",
       "2  llama-2-7b (1.15)                   792\n",
       "3   orca-2-7b (1.05)                   536\n",
       "4    orca-2-7b (1.1)                   549\n",
       "5   orca-2-7b (1.15)                   432"
      ]
     },
     "execution_count": 29,
     "metadata": {},
     "output_type": "execute_result"
    }
   ],
   "source": [
    "num_tokens_generated2.sort_index()"
   ]
  },
  {
   "cell_type": "code",
   "execution_count": 30,
   "metadata": {},
   "outputs": [],
   "source": [
    "df = pd.read_excel(\"./results/raw_data_nvidia_4080.xlsx\")"
   ]
  },
  {
   "cell_type": "code",
   "execution_count": 31,
   "metadata": {},
   "outputs": [
    {
     "data": {
      "text/plain": [
       "(\"What's PCI DSS?\",\n",
       " nan,\n",
       " 'PCI DSS stands for Payment Card Industry Data Security Standard. It is a global standard that provides a baseline of technical and operational requirements designed to protect payment account data. The standard is developed and maintained by the PCI Security Standards Council, and it includes requirements for building and maintaining a secure network and systems, protecting account data, maintaining a vulnerability management program, implementing strong access control measures, and more. The goal of PCI DSS is to protect payment data from unauthorized access, use, disclosure, disruption, modification, or destruction.\\n\\n\\n\\n')"
      ]
     },
     "execution_count": 31,
     "metadata": {},
     "output_type": "execute_result"
    }
   ],
   "source": [
    "df[\"user_question\"][0], df[\"standalone_question\"][0], df[\"answer\"][0]"
   ]
  },
  {
   "cell_type": "code",
   "execution_count": 32,
   "metadata": {},
   "outputs": [
    {
     "data": {
      "text/plain": [
       "('Can you summarize the changes made from PCI DSS version 3.2.1 to version 4.0?',\n",
       " 'What are the key changes made in PCI DSS version 4.0 compared to version 3.2.1?\\n\\n\\n\\n',\n",
       " ' The key changes made in PCI DSS version 4.0 compared to version 3.2.1 include updated principal requirement titles, replaced \"firewalls\" and \"routers\" with \"network security controls\", and evolved requirements related to roles and responsibilities. Additionally, there are errata updates to correct entries in the Summary of New Requirements table and to add descriptions of changes made to certain requirements.\\n\\n\\n\\n')"
      ]
     },
     "execution_count": 32,
     "metadata": {},
     "output_type": "execute_result"
    }
   ],
   "source": [
    "df[\"user_question\"][1], df[\"standalone_question\"][1], df[\"answer\"][1]"
   ]
  },
  {
   "cell_type": "code",
   "execution_count": 33,
   "metadata": {},
   "outputs": [
    {
     "data": {
      "text/plain": [
       "('new requirements for vulnerability assessments',\n",
       " 'What are the updated requirements for vulnerability assessments in PCI DSS version 4.0 compared to version 3.2.1?\\n\\n\\n\\n',\n",
       " ' The updated requirements for vulnerability assessments in PCI DSS version 4.0 are as follows:\\n\\n\\n\\n\\n\\n\\n\\n\\n\\n\\n\\n\\n\\n\\n\\n\\n\\n\\n\\n\\n\\n\\n\\n\\n\\n\\n\\n\\n\\n\\n\\n\\n\\n\\n\\n\\n\\n\\n\\n\\n\\n\\n\\n\\n\\n\\n\\n\\n\\n\\n\\n\\n\\n\\n\\n\\n\\n\\n\\n\\n\\n\\n\\n\\n\\n\\n\\n\\n\\n\\n\\n\\n\\n\\n\\n\\n\\n\\n\\n\\n\\n\\n\\n\\n\\n\\n\\n\\n\\n\\n\\n\\n\\n\\n\\n\\n\\n\\n\\n\\n\\n\\n\\n\\n\\n\\n\\n\\n\\n\\n\\n\\n\\n\\n\\n\\n\\n\\n\\n\\n\\n\\n\\n\\n\\n\\n\\n\\n\\n\\n\\n\\n\\n\\n\\n\\n\\n\\n\\n\\n\\n\\n\\n\\n\\n\\n\\n\\n\\n\\n\\n\\n\\n\\n\\n\\n\\n\\n\\n\\n\\n\\n\\n\\n\\n\\n\\n\\n\\n\\n\\n\\n\\n\\n\\n\\n\\n\\n\\n\\n\\n\\n\\n\\n\\n\\n\\n\\n\\n\\n\\n\\n\\n\\n\\n\\n\\n\\n\\n\\n\\n\\n\\n\\n\\n\\n\\n\\n\\n\\n\\n\\n\\n\\n\\n\\n\\n\\n\\n\\n\\n\\n\\n\\n\\n\\n\\n\\n\\n\\n\\n\\n\\n\\n\\n\\n\\n\\n\\n\\n\\n\\n\\n\\n\\n\\n\\n\\n\\n\\n\\n\\n\\n\\n\\n\\n\\n\\n\\n\\n\\n\\n\\n\\n\\n\\n\\n\\n\\n\\n\\n\\n\\n\\n\\n\\n\\n\\n\\n\\n\\n\\n\\n\\n\\n\\n\\n\\n\\n\\n\\n\\n\\n\\n\\n\\n\\n\\n\\n\\n\\n\\n\\n\\n\\n\\n\\n\\n\\n\\n\\n\\n\\n\\n\\n\\n\\n\\n\\n\\n\\n\\n\\n\\n\\n\\n\\n\\n\\n\\n\\n\\n\\n\\n\\n\\n\\n\\n\\n\\n\\n\\n\\n\\n\\n\\n\\n\\n\\n\\n\\n\\n\\n\\n\\n\\n\\n\\n\\n\\n\\n\\n\\n\\n\\n\\n\\n\\n\\n\\n\\n\\n\\n\\n\\n\\n\\n\\n\\n\\n\\n\\n\\n\\n\\n\\n\\n\\n\\n\\n\\n\\n\\n\\n\\n\\n\\n\\n\\n\\n\\n\\n\\n\\n\\n\\n\\n\\n\\n\\n\\n\\n\\n\\n\\n\\n\\n\\n\\n\\n\\n\\n\\n\\n\\n\\n\\n\\n\\n\\n\\n\\n\\n\\n\\n\\n\\n\\n\\n\\n\\n\\n\\n\\n\\n\\n\\n\\n\\n\\n\\n\\n\\n\\n\\n\\n\\n\\n\\n\\n\\n\\n\\n\\n\\n\\n\\n\\n\\n\\n\\n\\n\\n\\n\\n\\n\\n\\n\\n\\n\\n\\n\\n\\n\\n\\n\\n\\n\\n\\n\\n\\n\\n\\n\\n\\n\\n\\n\\n\\n\\n\\n\\n\\n\\n\\n\\n\\n\\n\\n\\n\\n\\n\\n\\n\\n\\n\\n\\n\\n\\n\\n\\n\\n\\n\\n\\n\\n\\n\\n\\n\\n\\n\\n\\n\\n\\n\\n\\n\\n\\n\\n\\n\\n\\n\\n\\n\\n\\n\\n\\n\\n\\n\\n\\n\\n\\n\\n\\n\\n\\n\\n\\n\\n\\n\\n\\n\\n\\n\\n\\n\\n\\n\\n\\n\\n\\n\\n\\n\\n\\n\\n\\n\\n\\n\\n\\n\\n\\n\\n\\n\\n\\n\\n\\n\\n\\n\\n\\n\\n\\n\\n\\n\\n\\n\\n\\n\\n\\n\\n\\n\\n\\n\\n\\n\\n\\n\\n\\n\\n\\n\\n\\n\\n\\n\\n\\n\\n\\n\\n\\n\\n\\n\\n\\n\\n\\n\\n\\n\\n\\n\\n\\n\\n\\n\\n\\n\\n\\n\\n\\n\\n\\n\\n\\n\\n\\n\\n\\n\\n\\n\\n\\n\\n\\n\\n\\n\\n\\n\\n\\n\\n\\n\\n\\n\\n\\n\\n\\n\\n\\n\\n\\n\\n\\n\\n\\n\\n\\n\\n\\n\\n\\n\\n\\n\\n\\n\\n\\n\\n\\n\\n\\n\\n\\n\\n\\n\\n\\n\\n\\n\\n\\n\\n\\n\\n\\n\\n\\n\\n\\n\\n\\n\\n\\n\\n\\n\\n\\n\\n\\n\\n\\n\\n\\n\\n\\n\\n\\n\\n\\n\\n\\n\\n\\n\\n\\n\\n\\n\\n\\n\\n\\n\\n\\n\\n\\n\\n\\n\\n\\n\\n\\n\\n\\n\\n\\n\\n\\n\\n\\n\\n\\n\\n\\n\\n\\n\\n\\n\\n\\n\\n\\n\\n\\n\\n\\n\\n\\n\\n\\n\\n\\n\\n\\n\\n\\n\\n\\n\\n\\n\\n\\n\\n\\n\\n\\n\\n\\n\\n\\n\\n\\n\\n\\n\\n\\n\\n\\n\\n\\n\\n\\n\\n\\n\\n\\n\\n\\n\\n\\n\\n\\n\\n\\n\\n\\n\\n\\n\\n\\n\\n\\n\\n\\n\\n\\n\\n\\n\\n\\n\\n\\n\\n\\n\\n\\n\\n\\n\\n\\n\\n\\n\\n\\n\\n\\n\\n\\n\\n\\n\\n\\n\\n\\n\\n\\n\\n\\n\\n\\n\\n\\n\\n\\n\\n\\n\\n\\n\\n\\n\\n\\n\\n\\n\\n\\n\\n\\n\\n\\n\\n\\n\\n\\n\\n\\n\\n\\n\\n\\n\\n\\n\\n\\n\\n\\n\\n\\n\\n\\n\\n\\n\\n\\n\\n\\n\\n\\n\\n\\n\\n\\n\\n\\n\\n\\n\\n\\n\\n\\n\\n\\n\\n\\n\\n\\n\\n\\n\\n\\n\\n\\n\\n\\n\\n\\n\\n\\n\\n\\n\\n\\n\\n\\n\\n\\n\\n\\n\\n\\n\\n\\n\\n\\n\\n\\n\\n\\n\\n\\n\\n\\n\\n\\n\\n\\n\\n\\n\\n\\n\\n\\n\\n\\n\\n\\n\\n\\n\\n\\n\\n\\n\\n\\n\\n\\n\\n\\n\\n\\n\\n\\n\\n\\n\\n\\n\\n\\n\\n\\n\\n\\n\\n\\n\\n\\n\\n\\n\\n\\n\\n\\n\\n\\n\\n\\n\\n\\n\\n\\n\\n\\n\\n\\n\\n\\n\\n\\n\\n\\n\\n\\n\\n\\n\\n\\n\\n\\n\\n\\n\\n\\n\\n\\n\\n\\n\\n\\n\\n\\n\\n\\n\\n\\n\\n\\n\\n\\n\\n\\n\\n\\n\\n\\n\\n\\n\\n\\n\\n\\n\\n\\n\\n\\n\\n\\n\\n\\n\\n\\n\\n\\n\\n\\n\\n\\n\\n\\n\\n\\n\\n\\n\\n\\n\\n\\n\\n\\n\\n\\n\\n\\n\\n\\n\\n\\n\\n\\n\\n\\n\\n\\n\\n\\n\\n\\n\\n\\n\\n\\n\\n\\n\\n\\n\\n\\n\\n\\n\\n\\n\\n\\n\\n\\n\\n\\n\\n\\n\\n\\n\\n\\n\\n\\n\\n\\n\\n\\n\\n\\n\\n\\n\\n\\n\\n\\n\\n\\n\\n\\n\\n\\n\\n\\n\\n\\n\\n\\n\\n\\n\\n\\n\\n\\n\\n\\n\\n\\n\\n\\n\\n\\n\\n\\n\\n\\n\\n\\n\\n\\n\\n\\n\\n\\n\\n\\n\\n\\n\\n\\n\\n\\n\\n\\n\\n\\n\\n\\n\\n\\n\\n\\n\\n\\n\\n\\n\\n\\n\\n\\n\\n\\n\\n\\n\\n\\n\\n\\n\\n\\n\\n\\n\\n\\n\\n\\n\\n\\n\\n\\n\\n\\n\\n\\n\\n\\n\\n\\n\\n\\n\\n\\n\\n\\n\\n\\n\\n\\n\\n\\n\\n\\n\\n\\n\\n\\n\\n\\n\\n\\n\\n\\n\\n\\n\\n\\n\\n\\n\\n\\n\\n\\n\\n\\n\\n\\n\\n\\n\\n\\n\\n\\n\\n\\n\\n\\n\\n\\n\\n\\n\\n\\n\\n\\n\\n\\n\\n\\n\\n\\n\\n\\n\\n\\n\\n\\n\\n\\n\\n\\n\\n\\n\\n\\n\\n\\n\\n\\n\\n\\n\\n\\n\\n\\n\\n\\n\\n\\n\\n\\n\\n\\n\\n\\n\\n\\n\\n\\n\\n\\n\\n\\n\\n\\n\\n\\n\\n\\n\\n\\n\\n\\n\\n\\n\\n\\n\\n\\n\\n\\n\\n\\n\\n\\n\\n\\n\\n\\n\\n\\n\\n\\n\\n\\n\\n\\n\\n\\n\\n\\n\\n\\n\\n\\n\\n\\n\\n\\n\\n\\n\\n\\n\\n\\n\\n\\n\\n\\n\\n\\n\\n\\n\\n\\n\\n\\n\\n\\n\\n\\n\\n\\n\\n\\n\\n\\n\\n\\n\\n\\n\\n\\n\\n\\n\\n\\n\\n\\n\\n\\n\\n\\n\\n\\n\\n\\n\\n\\n\\n\\n\\n\\n\\n\\n\\n\\n\\n\\n\\n\\n\\n\\n\\n\\n\\n\\n\\n\\n\\n\\n\\n\\n\\n\\n\\n\\n\\n\\n\\n\\n\\n\\n\\n\\n\\n\\n\\n\\n\\n\\n\\n\\n\\n\\n\\n\\n\\n\\n\\n\\n\\n\\n\\n\\n\\n\\n\\n\\n\\n\\n\\n\\n\\n\\n\\n\\n\\n\\n\\n\\n\\n\\n\\n\\n\\n\\n\\n\\n\\n\\n\\n\\n\\n\\n\\n\\n\\n\\n\\n\\n\\n\\n\\n\\n\\n\\n\\n\\n\\n\\n\\n\\n\\n\\n\\n\\n\\n\\n\\n\\n\\n\\n\\n\\n\\n\\n\\n\\n\\n\\n\\n\\n\\n\\n\\n\\n\\n\\n\\n\\n\\n\\n\\n\\n\\n\\n\\n\\n\\n\\n\\n\\n\\n\\n\\n\\n\\n\\n\\n\\n\\n\\n\\n\\n\\n\\n\\n\\n\\n\\n\\n\\n\\n\\n\\n\\n\\n\\n\\n\\n\\n\\n\\n\\n\\n\\n\\n\\n\\n\\n\\n\\n\\n\\n\\n\\n\\n\\n\\n\\n\\n\\n\\n\\n\\n\\n\\n\\n\\n\\n\\n\\n\\n\\n\\n\\n\\n\\n\\n\\n\\n\\n\\n\\n\\n\\n\\n\\n\\n\\n\\n\\n\\n\\n\\n\\n\\n\\n\\n\\n\\n\\n\\n\\n\\n\\n\\n\\n\\n\\n\\n\\n\\n\\n\\n\\n\\n\\n\\n\\n\\n\\n\\n\\n\\n\\n\\n\\n\\n\\n\\n\\n\\n\\n\\n\\n\\n\\n\\n\\n\\n\\n\\n\\n\\n\\n\\n\\n\\n\\n\\n\\n\\n\\n\\n\\n\\n\\n\\n\\n\\n\\n\\n\\n\\n\\n\\n\\n\\n\\n\\n\\n\\n\\n\\n\\n\\n\\n\\n\\n\\n\\n\\n\\n\\n\\n\\n\\n\\n\\n\\n\\n\\n\\n\\n\\n\\n\\n\\n\\n\\n\\n\\n\\n\\n\\n\\n\\n\\n\\n\\n\\n\\n\\n\\n\\n\\n\\n\\n\\n\\n\\n\\n\\n\\n\\n\\n\\n\\n\\n\\n\\n\\n\\n\\n\\n\\n\\n\\n\\n\\n\\n\\n\\n\\n\\n\\n\\n\\n\\n\\n\\n\\n\\n\\n\\n\\n\\n\\n\\n\\n\\n\\n\\n\\n\\n\\n\\n\\n\\n\\n\\n\\n\\n\\n\\n\\n\\n\\n\\n\\n\\n\\n\\n\\n\\n\\n\\n\\n\\n\\n\\n\\n\\n\\n\\n\\n\\n\\n\\n\\n\\n\\n\\n\\n\\n\\n\\n\\n\\n\\n\\n\\n\\n\\n\\n\\n\\n\\n\\n\\n\\n\\n\\n\\n\\n\\n\\n\\n\\n\\n\\n\\n\\n\\n\\n\\n\\n\\n\\n\\n\\n\\n\\n\\n\\n\\n\\n\\n\\n\\n\\n\\n\\n\\n\\n\\n\\n\\n\\n\\n\\n\\n\\n\\n\\n\\n\\n\\n\\n\\n\\n\\n\\n\\n\\n\\n\\n\\n\\n\\n\\n\\n\\n\\n\\n\\n\\n\\n\\n\\n\\n\\n\\n\\n\\n\\n\\n\\n\\n\\n\\n\\n\\n\\n\\n\\n\\n\\n\\n\\n\\n\\n\\n\\n\\n\\n\\n\\n\\n\\n\\n\\n\\n\\n\\n\\n')"
      ]
     },
     "execution_count": 33,
     "metadata": {},
     "output_type": "execute_result"
    }
   ],
   "source": [
    "df[\"user_question\"][2], df[\"standalone_question\"][2], df[\"answer\"][2]"
   ]
  },
  {
   "cell_type": "code",
   "execution_count": 34,
   "metadata": {},
   "outputs": [
    {
     "data": {
      "text/plain": [
       "('more on penetration testing',\n",
       " 'What are the updated requirements for vulnerability assessments in PCI DSS version 4.0?\\n\\n\\n\\n',\n",
       " ' The updated requirements for vulnerability assessments in PCI DSS version 4.0 can be found in Section 11 of the summary of changes document. According to the document, there are new requirements for managing all other applicable vulnerabilities (those not ranked as high-risk or critical) found during internal vulnerability scans, and for performing vulnerability assessments via authenticated scanning. Additionally, there is a new requirement for maintaining an inventory of trusted keys and certificates.\\n\\n\\n\\n')"
      ]
     },
     "execution_count": 34,
     "metadata": {},
     "output_type": "execute_result"
    }
   ],
   "source": [
    "df[\"user_question\"][3], df[\"standalone_question\"][3], df[\"answer\"][3]"
   ]
  }
 ],
 "metadata": {
  "kernelspec": {
   "display_name": "Python 3 (ipykernel)",
   "language": "python",
   "name": "python3"
  },
  "language_info": {
   "codemirror_mode": {
    "name": "ipython",
    "version": 3
   },
   "file_extension": ".py",
   "mimetype": "text/x-python",
   "name": "python",
   "nbconvert_exporter": "python",
   "pygments_lexer": "ipython3",
   "version": "3.9.18"
  }
 },
 "nbformat": 4,
 "nbformat_minor": 4
}
